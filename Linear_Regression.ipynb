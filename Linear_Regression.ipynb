{
 "cells": [
  {
   "cell_type": "markdown",
   "id": "3cbca729-552d-46d7-8378-13feb9df0ec4",
   "metadata": {},
   "source": [
    "# Linear Regression Model"
   ]
  },
  {
   "cell_type": "code",
   "execution_count": 34,
   "id": "d3e3c401-c900-4f94-b9b0-58404de1008d",
   "metadata": {},
   "outputs": [],
   "source": [
    "import numpy as np\n",
    "import pandas as pd\n",
    "import matplotlib.pyplot as plt\n",
    "import statsmodels.api as sm\n",
    "import os\n",
    "import math"
   ]
  },
  {
   "cell_type": "code",
   "execution_count": 46,
   "id": "a33874f3-58d5-41cd-9ce0-3755f06d8123",
   "metadata": {},
   "outputs": [
    {
     "name": "stdout",
     "output_type": "stream",
     "text": [
      "/Users/saniyavaidya/Documents/4580_final_project/simulation_data/1363_logit_data/1363_logit_rawdata.csv\n"
     ]
    },
    {
     "data": {
      "text/html": [
       "<div>\n",
       "<style scoped>\n",
       "    .dataframe tbody tr th:only-of-type {\n",
       "        vertical-align: middle;\n",
       "    }\n",
       "\n",
       "    .dataframe tbody tr th {\n",
       "        vertical-align: top;\n",
       "    }\n",
       "\n",
       "    .dataframe thead th {\n",
       "        text-align: right;\n",
       "    }\n",
       "</style>\n",
       "<table border=\"1\" class=\"dataframe\">\n",
       "  <thead>\n",
       "    <tr style=\"text-align: right;\">\n",
       "      <th></th>\n",
       "      <th>0</th>\n",
       "      <th>1</th>\n",
       "      <th>2</th>\n",
       "      <th>3</th>\n",
       "      <th>4</th>\n",
       "      <th>5</th>\n",
       "    </tr>\n",
       "  </thead>\n",
       "  <tbody>\n",
       "    <tr>\n",
       "      <th>0</th>\n",
       "      <td>-1.492976</td>\n",
       "      <td>1.0</td>\n",
       "      <td>0.576202</td>\n",
       "      <td>0.780220</td>\n",
       "      <td>0.880769</td>\n",
       "      <td>0.869231</td>\n",
       "    </tr>\n",
       "    <tr>\n",
       "      <th>1</th>\n",
       "      <td>-0.017112</td>\n",
       "      <td>1.0</td>\n",
       "      <td>0.588365</td>\n",
       "      <td>0.763956</td>\n",
       "      <td>0.844615</td>\n",
       "      <td>0.887179</td>\n",
       "    </tr>\n",
       "    <tr>\n",
       "      <th>2</th>\n",
       "      <td>2.487176</td>\n",
       "      <td>1.0</td>\n",
       "      <td>0.560144</td>\n",
       "      <td>0.750989</td>\n",
       "      <td>0.868462</td>\n",
       "      <td>0.871795</td>\n",
       "    </tr>\n",
       "    <tr>\n",
       "      <th>3</th>\n",
       "      <td>0.427624</td>\n",
       "      <td>1.0</td>\n",
       "      <td>0.589952</td>\n",
       "      <td>0.768571</td>\n",
       "      <td>0.873846</td>\n",
       "      <td>0.941026</td>\n",
       "    </tr>\n",
       "    <tr>\n",
       "      <th>4</th>\n",
       "      <td>-0.510547</td>\n",
       "      <td>1.0</td>\n",
       "      <td>0.589663</td>\n",
       "      <td>0.767033</td>\n",
       "      <td>0.836154</td>\n",
       "      <td>0.907692</td>\n",
       "    </tr>\n",
       "    <tr>\n",
       "      <th>...</th>\n",
       "      <td>...</td>\n",
       "      <td>...</td>\n",
       "      <td>...</td>\n",
       "      <td>...</td>\n",
       "      <td>...</td>\n",
       "      <td>...</td>\n",
       "    </tr>\n",
       "    <tr>\n",
       "      <th>495</th>\n",
       "      <td>0.210976</td>\n",
       "      <td>1.0</td>\n",
       "      <td>0.560817</td>\n",
       "      <td>0.749670</td>\n",
       "      <td>0.867692</td>\n",
       "      <td>0.920513</td>\n",
       "    </tr>\n",
       "    <tr>\n",
       "      <th>496</th>\n",
       "      <td>-0.869551</td>\n",
       "      <td>1.0</td>\n",
       "      <td>0.600625</td>\n",
       "      <td>0.790549</td>\n",
       "      <td>0.857692</td>\n",
       "      <td>0.910256</td>\n",
       "    </tr>\n",
       "    <tr>\n",
       "      <th>497</th>\n",
       "      <td>-0.742994</td>\n",
       "      <td>1.0</td>\n",
       "      <td>0.589423</td>\n",
       "      <td>0.762857</td>\n",
       "      <td>0.823846</td>\n",
       "      <td>0.838462</td>\n",
       "    </tr>\n",
       "    <tr>\n",
       "      <th>498</th>\n",
       "      <td>-1.722954</td>\n",
       "      <td>1.0</td>\n",
       "      <td>0.576010</td>\n",
       "      <td>0.746154</td>\n",
       "      <td>0.843077</td>\n",
       "      <td>0.910256</td>\n",
       "    </tr>\n",
       "    <tr>\n",
       "      <th>499</th>\n",
       "      <td>-0.903533</td>\n",
       "      <td>1.0</td>\n",
       "      <td>0.575288</td>\n",
       "      <td>0.733187</td>\n",
       "      <td>0.764615</td>\n",
       "      <td>0.846154</td>\n",
       "    </tr>\n",
       "  </tbody>\n",
       "</table>\n",
       "<p>500 rows × 6 columns</p>\n",
       "</div>"
      ],
      "text/plain": [
       "            0    1         2         3         4         5\n",
       "0   -1.492976  1.0  0.576202  0.780220  0.880769  0.869231\n",
       "1   -0.017112  1.0  0.588365  0.763956  0.844615  0.887179\n",
       "2    2.487176  1.0  0.560144  0.750989  0.868462  0.871795\n",
       "3    0.427624  1.0  0.589952  0.768571  0.873846  0.941026\n",
       "4   -0.510547  1.0  0.589663  0.767033  0.836154  0.907692\n",
       "..        ...  ...       ...       ...       ...       ...\n",
       "495  0.210976  1.0  0.560817  0.749670  0.867692  0.920513\n",
       "496 -0.869551  1.0  0.600625  0.790549  0.857692  0.910256\n",
       "497 -0.742994  1.0  0.589423  0.762857  0.823846  0.838462\n",
       "498 -1.722954  1.0  0.576010  0.746154  0.843077  0.910256\n",
       "499 -0.903533  1.0  0.575288  0.733187  0.764615  0.846154\n",
       "\n",
       "[500 rows x 6 columns]"
      ]
     },
     "execution_count": 46,
     "metadata": {},
     "output_type": "execute_result"
    }
   ],
   "source": [
    "ts = '1363'\n",
    "sim_type = 'logit'\n",
    "\n",
    "path = os.path.join(os.getcwd(), \"simulation_data\")\n",
    "folder_path = os.path.join(path, \"%s_%s_data\" % (ts, sim_type))\n",
    "listing = ts + \"_\" + sim_type + \"_rawdata.csv\"\n",
    "path = os.path.join(folder_path, listing)\n",
    "print(path)\n",
    "\n",
    "df = pd.read_csv(path,header=None).T\n",
    "df"
   ]
  },
  {
   "cell_type": "code",
   "execution_count": 47,
   "id": "aa4fd7cd-5cf4-43d6-b70f-0843594ea2d4",
   "metadata": {},
   "outputs": [
    {
     "data": {
      "text/html": [
       "<div>\n",
       "<style scoped>\n",
       "    .dataframe tbody tr th:only-of-type {\n",
       "        vertical-align: middle;\n",
       "    }\n",
       "\n",
       "    .dataframe tbody tr th {\n",
       "        vertical-align: top;\n",
       "    }\n",
       "\n",
       "    .dataframe thead th {\n",
       "        text-align: right;\n",
       "    }\n",
       "</style>\n",
       "<table border=\"1\" class=\"dataframe\">\n",
       "  <thead>\n",
       "    <tr style=\"text-align: right;\">\n",
       "      <th></th>\n",
       "      <th>alpha</th>\n",
       "      <th>gamma</th>\n",
       "      <th>% Men in J</th>\n",
       "      <th>% Men in M</th>\n",
       "      <th>% Men in S</th>\n",
       "      <th>% Men in E</th>\n",
       "    </tr>\n",
       "  </thead>\n",
       "  <tbody>\n",
       "    <tr>\n",
       "      <th>0</th>\n",
       "      <td>-1.492976</td>\n",
       "      <td>1.0</td>\n",
       "      <td>0.576202</td>\n",
       "      <td>0.780220</td>\n",
       "      <td>0.880769</td>\n",
       "      <td>0.869231</td>\n",
       "    </tr>\n",
       "    <tr>\n",
       "      <th>1</th>\n",
       "      <td>-0.017112</td>\n",
       "      <td>1.0</td>\n",
       "      <td>0.588365</td>\n",
       "      <td>0.763956</td>\n",
       "      <td>0.844615</td>\n",
       "      <td>0.887179</td>\n",
       "    </tr>\n",
       "    <tr>\n",
       "      <th>2</th>\n",
       "      <td>2.487176</td>\n",
       "      <td>1.0</td>\n",
       "      <td>0.560144</td>\n",
       "      <td>0.750989</td>\n",
       "      <td>0.868462</td>\n",
       "      <td>0.871795</td>\n",
       "    </tr>\n",
       "    <tr>\n",
       "      <th>3</th>\n",
       "      <td>0.427624</td>\n",
       "      <td>1.0</td>\n",
       "      <td>0.589952</td>\n",
       "      <td>0.768571</td>\n",
       "      <td>0.873846</td>\n",
       "      <td>0.941026</td>\n",
       "    </tr>\n",
       "    <tr>\n",
       "      <th>4</th>\n",
       "      <td>-0.510547</td>\n",
       "      <td>1.0</td>\n",
       "      <td>0.589663</td>\n",
       "      <td>0.767033</td>\n",
       "      <td>0.836154</td>\n",
       "      <td>0.907692</td>\n",
       "    </tr>\n",
       "  </tbody>\n",
       "</table>\n",
       "</div>"
      ],
      "text/plain": [
       "      alpha  gamma  % Men in J  % Men in M  % Men in S  % Men in E\n",
       "0 -1.492976    1.0    0.576202    0.780220    0.880769    0.869231\n",
       "1 -0.017112    1.0    0.588365    0.763956    0.844615    0.887179\n",
       "2  2.487176    1.0    0.560144    0.750989    0.868462    0.871795\n",
       "3  0.427624    1.0    0.589952    0.768571    0.873846    0.941026\n",
       "4 -0.510547    1.0    0.589663    0.767033    0.836154    0.907692"
      ]
     },
     "execution_count": 47,
     "metadata": {},
     "output_type": "execute_result"
    }
   ],
   "source": [
    "df = df.rename(columns={0: \"alpha\", 1: \"gamma\", 2: \"% Men in J\", 3: \"% Men in M\", 4: \"% Men in S\" , 5: \"% Men in E\"})\n",
    "df.head()"
   ]
  },
  {
   "cell_type": "code",
   "execution_count": 48,
   "id": "9edfa016-0670-4268-8dbd-f6618da75fe9",
   "metadata": {},
   "outputs": [
    {
     "data": {
      "text/html": [
       "<div>\n",
       "<style scoped>\n",
       "    .dataframe tbody tr th:only-of-type {\n",
       "        vertical-align: middle;\n",
       "    }\n",
       "\n",
       "    .dataframe tbody tr th {\n",
       "        vertical-align: top;\n",
       "    }\n",
       "\n",
       "    .dataframe thead th {\n",
       "        text-align: right;\n",
       "    }\n",
       "</style>\n",
       "<table border=\"1\" class=\"dataframe\">\n",
       "  <thead>\n",
       "    <tr style=\"text-align: right;\">\n",
       "      <th></th>\n",
       "      <th>alpha</th>\n",
       "      <th>gamma</th>\n",
       "      <th>% Men in J</th>\n",
       "      <th>% Men in M</th>\n",
       "      <th>% Men in S</th>\n",
       "      <th>% Men in E</th>\n",
       "      <th>bias</th>\n",
       "    </tr>\n",
       "  </thead>\n",
       "  <tbody>\n",
       "    <tr>\n",
       "      <th>0</th>\n",
       "      <td>-1.492976</td>\n",
       "      <td>1.0</td>\n",
       "      <td>0.576202</td>\n",
       "      <td>0.780220</td>\n",
       "      <td>0.880769</td>\n",
       "      <td>0.869231</td>\n",
       "      <td>0.183475</td>\n",
       "    </tr>\n",
       "    <tr>\n",
       "      <th>1</th>\n",
       "      <td>-0.017112</td>\n",
       "      <td>1.0</td>\n",
       "      <td>0.588365</td>\n",
       "      <td>0.763956</td>\n",
       "      <td>0.844615</td>\n",
       "      <td>0.887179</td>\n",
       "      <td>0.495722</td>\n",
       "    </tr>\n",
       "    <tr>\n",
       "      <th>2</th>\n",
       "      <td>2.487176</td>\n",
       "      <td>1.0</td>\n",
       "      <td>0.560144</td>\n",
       "      <td>0.750989</td>\n",
       "      <td>0.868462</td>\n",
       "      <td>0.871795</td>\n",
       "      <td>0.923238</td>\n",
       "    </tr>\n",
       "    <tr>\n",
       "      <th>3</th>\n",
       "      <td>0.427624</td>\n",
       "      <td>1.0</td>\n",
       "      <td>0.589952</td>\n",
       "      <td>0.768571</td>\n",
       "      <td>0.873846</td>\n",
       "      <td>0.941026</td>\n",
       "      <td>0.605306</td>\n",
       "    </tr>\n",
       "    <tr>\n",
       "      <th>4</th>\n",
       "      <td>-0.510547</td>\n",
       "      <td>1.0</td>\n",
       "      <td>0.589663</td>\n",
       "      <td>0.767033</td>\n",
       "      <td>0.836154</td>\n",
       "      <td>0.907692</td>\n",
       "      <td>0.375065</td>\n",
       "    </tr>\n",
       "  </tbody>\n",
       "</table>\n",
       "</div>"
      ],
      "text/plain": [
       "      alpha  gamma  % Men in J  % Men in M  % Men in S  % Men in E      bias\n",
       "0 -1.492976    1.0    0.576202    0.780220    0.880769    0.869231  0.183475\n",
       "1 -0.017112    1.0    0.588365    0.763956    0.844615    0.887179  0.495722\n",
       "2  2.487176    1.0    0.560144    0.750989    0.868462    0.871795  0.923238\n",
       "3  0.427624    1.0    0.589952    0.768571    0.873846    0.941026  0.605306\n",
       "4 -0.510547    1.0    0.589663    0.767033    0.836154    0.907692  0.375065"
      ]
     },
     "execution_count": 48,
     "metadata": {},
     "output_type": "execute_result"
    }
   ],
   "source": [
    "df['bias'] = (math.e**df['alpha']) / (1+math.e**df['alpha'])\n",
    "df.head()"
   ]
  },
  {
   "cell_type": "code",
   "execution_count": 52,
   "id": "752df523-1669-426e-b29f-326d7a49ea39",
   "metadata": {},
   "outputs": [
    {
     "data": {
      "text/plain": [
       "[<matplotlib.lines.Line2D at 0x7fa9c046f7f0>]"
      ]
     },
     "execution_count": 52,
     "metadata": {},
     "output_type": "execute_result"
    },
    {
     "data": {
      "image/png": "[encoded data removed]",
      "text/plain": [
       "<Figure size 432x288 with 1 Axes>"
      ]
     },
     "metadata": {
      "needs_background": "light"
     },
     "output_type": "display_data"
    }
   ],
   "source": [
    "#plt.plot(df['bias'],df['% Men in J'],'.')\n",
    "#plt.plot(df['alpha'],df['% Men in M'],'.')\n",
    "#plt.plot(df['bias'],df['% Men in M'],'.')\n",
    "plt.plot(df['alpha'],df['% Men in S'],'.')\n",
    "#plt.plot(df['bias'],df['% Men in E'],'.')"
   ]
  },
  {
   "cell_type": "code",
   "execution_count": 53,
   "id": "a8f780ea-0512-42d8-99ba-bd157bce40a3",
   "metadata": {},
   "outputs": [
    {
     "data": {
      "text/plain": [
       "[<matplotlib.lines.Line2D at 0x7fa9c0540fa0>]"
      ]
     },
     "execution_count": 53,
     "metadata": {},
     "output_type": "execute_result"
    },
    {
     "data": {
      "image/png": "[encoded data removed]",
      "text/plain": [
       "<Figure size 432x288 with 1 Axes>"
      ]
     },
     "metadata": {
      "needs_background": "light"
     },
     "output_type": "display_data"
    }
   ],
   "source": [
    "#plt.plot(df['gamma'],df['% Men in J'],\".\")\n",
    "#plt.plot(df['gamma'],df['% Men in M'],\".\")\n",
    "plt.plot(df['gamma'],df['% Men in S'],\".\")\n",
    "#plt.plot(df['gamma'],df['% Men in E'],\".\")"
   ]
  },
  {
   "cell_type": "code",
   "execution_count": 54,
   "id": "1640639c-2380-4fc3-8c3f-99621f360ca5",
   "metadata": {},
   "outputs": [
    {
     "data": {
      "text/html": [
       "<div>\n",
       "<style scoped>\n",
       "    .dataframe tbody tr th:only-of-type {\n",
       "        vertical-align: middle;\n",
       "    }\n",
       "\n",
       "    .dataframe tbody tr th {\n",
       "        vertical-align: top;\n",
       "    }\n",
       "\n",
       "    .dataframe thead th {\n",
       "        text-align: right;\n",
       "    }\n",
       "</style>\n",
       "<table border=\"1\" class=\"dataframe\">\n",
       "  <thead>\n",
       "    <tr style=\"text-align: right;\">\n",
       "      <th></th>\n",
       "      <th>alpha</th>\n",
       "      <th>gamma</th>\n",
       "    </tr>\n",
       "  </thead>\n",
       "  <tbody>\n",
       "    <tr>\n",
       "      <th>0</th>\n",
       "      <td>-1.492976</td>\n",
       "      <td>1.0</td>\n",
       "    </tr>\n",
       "    <tr>\n",
       "      <th>1</th>\n",
       "      <td>-0.017112</td>\n",
       "      <td>1.0</td>\n",
       "    </tr>\n",
       "    <tr>\n",
       "      <th>2</th>\n",
       "      <td>2.487176</td>\n",
       "      <td>1.0</td>\n",
       "    </tr>\n",
       "    <tr>\n",
       "      <th>3</th>\n",
       "      <td>0.427624</td>\n",
       "      <td>1.0</td>\n",
       "    </tr>\n",
       "    <tr>\n",
       "      <th>4</th>\n",
       "      <td>-0.510547</td>\n",
       "      <td>1.0</td>\n",
       "    </tr>\n",
       "  </tbody>\n",
       "</table>\n",
       "</div>"
      ],
      "text/plain": [
       "      alpha  gamma\n",
       "0 -1.492976    1.0\n",
       "1 -0.017112    1.0\n",
       "2  2.487176    1.0\n",
       "3  0.427624    1.0\n",
       "4 -0.510547    1.0"
      ]
     },
     "execution_count": 54,
     "metadata": {},
     "output_type": "execute_result"
    }
   ],
   "source": [
    "df[['alpha','gamma']].head()"
   ]
  },
  {
   "cell_type": "code",
   "execution_count": 55,
   "id": "9bae7b26-5b5d-4b9e-bb59-87c27e040301",
   "metadata": {},
   "outputs": [
    {
     "data": {
      "text/html": [
       "<table class=\"simpletable\">\n",
       "<caption>OLS Regression Results</caption>\n",
       "<tr>\n",
       "  <th>Dep. Variable:</th>       <td>% Men in S</td>    <th>  R-squared:         </th> <td>   0.062</td>\n",
       "</tr>\n",
       "<tr>\n",
       "  <th>Model:</th>                   <td>OLS</td>       <th>  Adj. R-squared:    </th> <td>   0.060</td>\n",
       "</tr>\n",
       "<tr>\n",
       "  <th>Method:</th>             <td>Least Squares</td>  <th>  F-statistic:       </th> <td>   33.03</td>\n",
       "</tr>\n",
       "<tr>\n",
       "  <th>Date:</th>             <td>Mon, 11 Dec 2023</td> <th>  Prob (F-statistic):</th> <td>1.59e-08</td>\n",
       "</tr>\n",
       "<tr>\n",
       "  <th>Time:</th>                 <td>08:26:35</td>     <th>  Log-Likelihood:    </th> <td>  1140.6</td>\n",
       "</tr>\n",
       "<tr>\n",
       "  <th>No. Observations:</th>      <td>   500</td>      <th>  AIC:               </th> <td>  -2277.</td>\n",
       "</tr>\n",
       "<tr>\n",
       "  <th>Df Residuals:</th>          <td>   498</td>      <th>  BIC:               </th> <td>  -2269.</td>\n",
       "</tr>\n",
       "<tr>\n",
       "  <th>Df Model:</th>              <td>     1</td>      <th>                     </th>     <td> </td>   \n",
       "</tr>\n",
       "<tr>\n",
       "  <th>Covariance Type:</th>      <td>nonrobust</td>    <th>                     </th>     <td> </td>   \n",
       "</tr>\n",
       "</table>\n",
       "<table class=\"simpletable\">\n",
       "<tr>\n",
       "    <td></td>       <th>coef</th>     <th>std err</th>      <th>t</th>      <th>P>|t|</th>  <th>[0.025</th>    <th>0.975]</th>  \n",
       "</tr>\n",
       "<tr>\n",
       "  <th>bias</th>  <td>    0.0237</td> <td>    0.004</td> <td>    5.747</td> <td> 0.000</td> <td>    0.016</td> <td>    0.032</td>\n",
       "</tr>\n",
       "<tr>\n",
       "  <th>gamma</th> <td>    0.8460</td> <td>    0.002</td> <td>  362.771</td> <td> 0.000</td> <td>    0.841</td> <td>    0.851</td>\n",
       "</tr>\n",
       "</table>\n",
       "<table class=\"simpletable\">\n",
       "<tr>\n",
       "  <th>Omnibus:</th>       <td> 2.438</td> <th>  Durbin-Watson:     </th> <td>   2.103</td>\n",
       "</tr>\n",
       "<tr>\n",
       "  <th>Prob(Omnibus):</th> <td> 0.296</td> <th>  Jarque-Bera (JB):  </th> <td>   2.448</td>\n",
       "</tr>\n",
       "<tr>\n",
       "  <th>Skew:</th>          <td>-0.169</td> <th>  Prob(JB):          </th> <td>   0.294</td>\n",
       "</tr>\n",
       "<tr>\n",
       "  <th>Kurtosis:</th>      <td> 2.949</td> <th>  Cond. No.          </th> <td>    4.70</td>\n",
       "</tr>\n",
       "</table><br/><br/>Notes:<br/>[1] Standard Errors assume that the covariance matrix of the errors is correctly specified."
      ],
      "text/plain": [
       "<class 'statsmodels.iolib.summary.Summary'>\n",
       "\"\"\"\n",
       "                            OLS Regression Results                            \n",
       "==============================================================================\n",
       "Dep. Variable:             % Men in S   R-squared:                       0.062\n",
       "Model:                            OLS   Adj. R-squared:                  0.060\n",
       "Method:                 Least Squares   F-statistic:                     33.03\n",
       "Date:                Mon, 11 Dec 2023   Prob (F-statistic):           1.59e-08\n",
       "Time:                        08:26:35   Log-Likelihood:                 1140.6\n",
       "No. Observations:                 500   AIC:                            -2277.\n",
       "Df Residuals:                     498   BIC:                            -2269.\n",
       "Df Model:                           1                                         \n",
       "Covariance Type:            nonrobust                                         \n",
       "==============================================================================\n",
       "                 coef    std err          t      P>|t|      [0.025      0.975]\n",
       "------------------------------------------------------------------------------\n",
       "bias           0.0237      0.004      5.747      0.000       0.016       0.032\n",
       "gamma          0.8460      0.002    362.771      0.000       0.841       0.851\n",
       "==============================================================================\n",
       "Omnibus:                        2.438   Durbin-Watson:                   2.103\n",
       "Prob(Omnibus):                  0.296   Jarque-Bera (JB):                2.448\n",
       "Skew:                          -0.169   Prob(JB):                        0.294\n",
       "Kurtosis:                       2.949   Cond. No.                         4.70\n",
       "==============================================================================\n",
       "\n",
       "Notes:\n",
       "[1] Standard Errors assume that the covariance matrix of the errors is correctly specified.\n",
       "\"\"\""
      ]
     },
     "execution_count": 55,
     "metadata": {},
     "output_type": "execute_result"
    }
   ],
   "source": [
    "model = sm.OLS(df['% Men in S'], sm.add_constant(df[['bias','gamma']])).fit()\n",
    "model.summary()"
   ]
  },
  {
   "cell_type": "code",
   "execution_count": 60,
   "id": "c62b784b-6ebb-4a60-bff6-7edb81f2ddab",
   "metadata": {},
   "outputs": [
    {
     "data": {
      "text/html": [
       "<table class=\"simpletable\">\n",
       "<caption>OLS Regression Results</caption>\n",
       "<tr>\n",
       "  <th>Dep. Variable:</th>       <td>% Men in S</td>    <th>  R-squared:         </th> <td>   0.062</td>\n",
       "</tr>\n",
       "<tr>\n",
       "  <th>Model:</th>                   <td>OLS</td>       <th>  Adj. R-squared:    </th> <td>   0.060</td>\n",
       "</tr>\n",
       "<tr>\n",
       "  <th>Method:</th>             <td>Least Squares</td>  <th>  F-statistic:       </th> <td>   33.03</td>\n",
       "</tr>\n",
       "<tr>\n",
       "  <th>Date:</th>             <td>Mon, 11 Dec 2023</td> <th>  Prob (F-statistic):</th> <td>1.59e-08</td>\n",
       "</tr>\n",
       "<tr>\n",
       "  <th>Time:</th>                 <td>08:28:41</td>     <th>  Log-Likelihood:    </th> <td>  1140.6</td>\n",
       "</tr>\n",
       "<tr>\n",
       "  <th>No. Observations:</th>      <td>   500</td>      <th>  AIC:               </th> <td>  -2277.</td>\n",
       "</tr>\n",
       "<tr>\n",
       "  <th>Df Residuals:</th>          <td>   498</td>      <th>  BIC:               </th> <td>  -2269.</td>\n",
       "</tr>\n",
       "<tr>\n",
       "  <th>Df Model:</th>              <td>     1</td>      <th>                     </th>     <td> </td>   \n",
       "</tr>\n",
       "<tr>\n",
       "  <th>Covariance Type:</th>      <td>nonrobust</td>    <th>                     </th>     <td> </td>   \n",
       "</tr>\n",
       "</table>\n",
       "<table class=\"simpletable\">\n",
       "<tr>\n",
       "    <td></td>       <th>coef</th>     <th>std err</th>      <th>t</th>      <th>P>|t|</th>  <th>[0.025</th>    <th>0.975]</th>  \n",
       "</tr>\n",
       "<tr>\n",
       "  <th>const</th> <td>    0.8460</td> <td>    0.002</td> <td>  362.771</td> <td> 0.000</td> <td>    0.841</td> <td>    0.851</td>\n",
       "</tr>\n",
       "<tr>\n",
       "  <th>bias</th>  <td>    0.0237</td> <td>    0.004</td> <td>    5.747</td> <td> 0.000</td> <td>    0.016</td> <td>    0.032</td>\n",
       "</tr>\n",
       "</table>\n",
       "<table class=\"simpletable\">\n",
       "<tr>\n",
       "  <th>Omnibus:</th>       <td> 2.438</td> <th>  Durbin-Watson:     </th> <td>   2.103</td>\n",
       "</tr>\n",
       "<tr>\n",
       "  <th>Prob(Omnibus):</th> <td> 0.296</td> <th>  Jarque-Bera (JB):  </th> <td>   2.448</td>\n",
       "</tr>\n",
       "<tr>\n",
       "  <th>Skew:</th>          <td>-0.169</td> <th>  Prob(JB):          </th> <td>   0.294</td>\n",
       "</tr>\n",
       "<tr>\n",
       "  <th>Kurtosis:</th>      <td> 2.949</td> <th>  Cond. No.          </th> <td>    4.70</td>\n",
       "</tr>\n",
       "</table><br/><br/>Notes:<br/>[1] Standard Errors assume that the covariance matrix of the errors is correctly specified."
      ],
      "text/plain": [
       "<class 'statsmodels.iolib.summary.Summary'>\n",
       "\"\"\"\n",
       "                            OLS Regression Results                            \n",
       "==============================================================================\n",
       "Dep. Variable:             % Men in S   R-squared:                       0.062\n",
       "Model:                            OLS   Adj. R-squared:                  0.060\n",
       "Method:                 Least Squares   F-statistic:                     33.03\n",
       "Date:                Mon, 11 Dec 2023   Prob (F-statistic):           1.59e-08\n",
       "Time:                        08:28:41   Log-Likelihood:                 1140.6\n",
       "No. Observations:                 500   AIC:                            -2277.\n",
       "Df Residuals:                     498   BIC:                            -2269.\n",
       "Df Model:                           1                                         \n",
       "Covariance Type:            nonrobust                                         \n",
       "==============================================================================\n",
       "                 coef    std err          t      P>|t|      [0.025      0.975]\n",
       "------------------------------------------------------------------------------\n",
       "const          0.8460      0.002    362.771      0.000       0.841       0.851\n",
       "bias           0.0237      0.004      5.747      0.000       0.016       0.032\n",
       "==============================================================================\n",
       "Omnibus:                        2.438   Durbin-Watson:                   2.103\n",
       "Prob(Omnibus):                  0.296   Jarque-Bera (JB):                2.448\n",
       "Skew:                          -0.169   Prob(JB):                        0.294\n",
       "Kurtosis:                       2.949   Cond. No.                         4.70\n",
       "==============================================================================\n",
       "\n",
       "Notes:\n",
       "[1] Standard Errors assume that the covariance matrix of the errors is correctly specified.\n",
       "\"\"\""
      ]
     },
     "execution_count": 60,
     "metadata": {},
     "output_type": "execute_result"
    }
   ],
   "source": [
    "alpha_model = sm.OLS(df['% Men in S'], sm.add_constant(df['bias'])).fit()\n",
    "alpha_model.summary()"
   ]
  },
  {
   "cell_type": "code",
   "execution_count": 62,
   "id": "207e4ea2-0510-4143-add3-f1b815e7902e",
   "metadata": {},
   "outputs": [
    {
     "data": {
      "text/plain": [
       "[<matplotlib.lines.Line2D at 0x7fa9a403e4c0>]"
      ]
     },
     "execution_count": 62,
     "metadata": {},
     "output_type": "execute_result"
    },
    {
     "data": {
      "image/png": "[encoded data removed]",
      "text/plain": [
       "<Figure size 432x288 with 1 Axes>"
      ]
     },
     "metadata": {
      "needs_background": "light"
     },
     "output_type": "display_data"
    }
   ],
   "source": [
    "#plt.plot(df['alpha'],df['% Men in E'],\".\")\n",
    "X = np.arange(0,1,0.1)\n",
    "Y = alpha_model.params[0] + alpha_model.params[1]*X\n",
    "\n",
    "plt.plot(df['bias'],df['% Men in S'],\".\")\n",
    "plt.plot(X,Y)"
   ]
  },
  {
   "cell_type": "code",
   "execution_count": 45,
   "id": "15dd0138-54e7-4349-a8e4-ec57cf256ff1",
   "metadata": {},
   "outputs": [
    {
     "data": {
      "text/plain": [
       "[<matplotlib.lines.Line2D at 0x7fa9811f96a0>]"
      ]
     },
     "execution_count": 45,
     "metadata": {},
     "output_type": "execute_result"
    },
    {
     "data": {
      "image/png": "[encoded data removed]",
      "text/plain": [
       "<Figure size 432x288 with 1 Axes>"
      ]
     },
     "metadata": {
      "needs_background": "light"
     },
     "output_type": "display_data"
    }
   ],
   "source": [
    "plt.plot(df['bias'],alpha_model.resid,\".\")\n",
    "plt.plot(np.arange(-40,40,1),np.zeros(80),color='black')"
   ]
  },
  {
   "cell_type": "code",
   "execution_count": null,
   "id": "df58e1ac-830d-4600-8111-cf1d71e72e7c",
   "metadata": {},
   "outputs": [],
   "source": []
  },
  {
   "cell_type": "code",
   "execution_count": null,
   "id": "79231a19-6143-4090-a795-1c2744308295",
   "metadata": {},
   "outputs": [],
   "source": []
  },
  {
   "cell_type": "code",
   "execution_count": null,
   "id": "2075d880-97d0-4885-8c63-a6fdbce4555d",
   "metadata": {},
   "outputs": [],
   "source": []
  },
  {
   "cell_type": "code",
   "execution_count": null,
   "id": "18f84ca2-1da1-4326-a57a-424606cc886f",
   "metadata": {},
   "outputs": [],
   "source": []
  },
  {
   "cell_type": "code",
   "execution_count": null,
   "id": "4c5f414f-a7d8-4453-a4b2-943b9ab7edfb",
   "metadata": {},
   "outputs": [],
   "source": []
  },
  {
   "cell_type": "code",
   "execution_count": null,
   "id": "db30a5b4-6e08-4f90-afe6-2386fed63804",
   "metadata": {},
   "outputs": [],
   "source": []
  },
  {
   "cell_type": "code",
   "execution_count": null,
   "id": "a3fd430f-3664-4bca-943c-444e755dcb9c",
   "metadata": {},
   "outputs": [],
   "source": []
  },
  {
   "cell_type": "code",
   "execution_count": null,
   "id": "a936feae-b149-490e-bd55-66ca0b914193",
   "metadata": {},
   "outputs": [],
   "source": []
  },
  {
   "cell_type": "code",
   "execution_count": null,
   "id": "6998ea6d-f700-4b0d-a345-774af07085f5",
   "metadata": {},
   "outputs": [],
   "source": []
  },
  {
   "cell_type": "code",
   "execution_count": null,
   "id": "daa128a0-143e-46f6-a017-a9252e4ef35b",
   "metadata": {},
   "outputs": [],
   "source": []
  },
  {
   "cell_type": "code",
   "execution_count": 217,
   "id": "9386a8e4-c3aa-42ab-a8f6-e9d1d11b6211",
   "metadata": {},
   "outputs": [
    {
     "data": {
      "text/html": [
       "<table class=\"simpletable\">\n",
       "<caption>OLS Regression Results</caption>\n",
       "<tr>\n",
       "  <th>Dep. Variable:</th>       <td>% Men in M</td>    <th>  R-squared:         </th> <td>  -0.000</td>\n",
       "</tr>\n",
       "<tr>\n",
       "  <th>Model:</th>                   <td>OLS</td>       <th>  Adj. R-squared:    </th> <td>  -0.000</td>\n",
       "</tr>\n",
       "<tr>\n",
       "  <th>Method:</th>             <td>Least Squares</td>  <th>  F-statistic:       </th> <td>     nan</td>\n",
       "</tr>\n",
       "<tr>\n",
       "  <th>Date:</th>             <td>Sun, 10 Dec 2023</td> <th>  Prob (F-statistic):</th>  <td>   nan</td> \n",
       "</tr>\n",
       "<tr>\n",
       "  <th>Time:</th>                 <td>20:46:59</td>     <th>  Log-Likelihood:    </th> <td>  106.23</td>\n",
       "</tr>\n",
       "<tr>\n",
       "  <th>No. Observations:</th>      <td>    40</td>      <th>  AIC:               </th> <td>  -210.5</td>\n",
       "</tr>\n",
       "<tr>\n",
       "  <th>Df Residuals:</th>          <td>    39</td>      <th>  BIC:               </th> <td>  -208.8</td>\n",
       "</tr>\n",
       "<tr>\n",
       "  <th>Df Model:</th>              <td>     0</td>      <th>                     </th>     <td> </td>   \n",
       "</tr>\n",
       "<tr>\n",
       "  <th>Covariance Type:</th>      <td>nonrobust</td>    <th>                     </th>     <td> </td>   \n",
       "</tr>\n",
       "</table>\n",
       "<table class=\"simpletable\">\n",
       "<tr>\n",
       "    <td></td>       <th>coef</th>     <th>std err</th>      <th>t</th>      <th>P>|t|</th>  <th>[0.025</th>    <th>0.975]</th>  \n",
       "</tr>\n",
       "<tr>\n",
       "  <th>gamma</th> <td>    0.5628</td> <td>    0.003</td> <td>  206.786</td> <td> 0.000</td> <td>    0.557</td> <td>    0.568</td>\n",
       "</tr>\n",
       "</table>\n",
       "<table class=\"simpletable\">\n",
       "<tr>\n",
       "  <th>Omnibus:</th>       <td> 5.944</td> <th>  Durbin-Watson:     </th> <td>   2.411</td>\n",
       "</tr>\n",
       "<tr>\n",
       "  <th>Prob(Omnibus):</th> <td> 0.051</td> <th>  Jarque-Bera (JB):  </th> <td>   4.659</td>\n",
       "</tr>\n",
       "<tr>\n",
       "  <th>Skew:</th>          <td> 0.785</td> <th>  Prob(JB):          </th> <td>  0.0973</td>\n",
       "</tr>\n",
       "<tr>\n",
       "  <th>Kurtosis:</th>      <td> 3.573</td> <th>  Cond. No.          </th> <td>    1.00</td>\n",
       "</tr>\n",
       "</table><br/><br/>Notes:<br/>[1] Standard Errors assume that the covariance matrix of the errors is correctly specified."
      ],
      "text/plain": [
       "<class 'statsmodels.iolib.summary.Summary'>\n",
       "\"\"\"\n",
       "                            OLS Regression Results                            \n",
       "==============================================================================\n",
       "Dep. Variable:             % Men in M   R-squared:                      -0.000\n",
       "Model:                            OLS   Adj. R-squared:                 -0.000\n",
       "Method:                 Least Squares   F-statistic:                       nan\n",
       "Date:                Sun, 10 Dec 2023   Prob (F-statistic):                nan\n",
       "Time:                        20:46:59   Log-Likelihood:                 106.23\n",
       "No. Observations:                  40   AIC:                            -210.5\n",
       "Df Residuals:                      39   BIC:                            -208.8\n",
       "Df Model:                           0                                         \n",
       "Covariance Type:            nonrobust                                         \n",
       "==============================================================================\n",
       "                 coef    std err          t      P>|t|      [0.025      0.975]\n",
       "------------------------------------------------------------------------------\n",
       "gamma          0.5628      0.003    206.786      0.000       0.557       0.568\n",
       "==============================================================================\n",
       "Omnibus:                        5.944   Durbin-Watson:                   2.411\n",
       "Prob(Omnibus):                  0.051   Jarque-Bera (JB):                4.659\n",
       "Skew:                           0.785   Prob(JB):                       0.0973\n",
       "Kurtosis:                       3.573   Cond. No.                         1.00\n",
       "==============================================================================\n",
       "\n",
       "Notes:\n",
       "[1] Standard Errors assume that the covariance matrix of the errors is correctly specified.\n",
       "\"\"\""
      ]
     },
     "execution_count": 217,
     "metadata": {},
     "output_type": "execute_result"
    }
   ],
   "source": [
    "model = sm.OLS(df['% Men in M'], sm.add_constant(df['gamma'])).fit()\n",
    "model.summary()"
   ]
  },
  {
   "cell_type": "code",
   "execution_count": null,
   "id": "1d98673e-1a33-45d2-9c1f-e2fc7dee0405",
   "metadata": {},
   "outputs": [],
   "source": []
  },
  {
   "cell_type": "code",
   "execution_count": null,
   "id": "970b3f45-fcaa-4145-b2ad-839fd91d8ee0",
   "metadata": {},
   "outputs": [],
   "source": []
  }
 ],
 "metadata": {
  "kernelspec": {
   "display_name": "Python 3",
   "language": "python",
   "name": "python3"
  },
  "language_info": {
   "codemirror_mode": {
    "name": "ipython",
    "version": 3
   },
   "file_extension": ".py",
   "mimetype": "text/x-python",
   "name": "python",
   "nbconvert_exporter": "python",
   "pygments_lexer": "ipython3",
   "version": "3.8.8"
  }
 },
 "nbformat": 4,
 "nbformat_minor": 5
}
