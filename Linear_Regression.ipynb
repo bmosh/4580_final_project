{
 "cells": [
  {
   "cell_type": "markdown",
   "id": "3cbca729-552d-46d7-8378-13feb9df0ec4",
   "metadata": {},
   "source": [
    "# Linear Regression Model"
   ]
  },
  {
   "cell_type": "code",
   "execution_count": 34,
   "id": "d3e3c401-c900-4f94-b9b0-58404de1008d",
   "metadata": {},
   "outputs": [],
   "source": [
    "import numpy as np\n",
    "import pandas as pd\n",
    "import matplotlib.pyplot as plt\n",
    "import statsmodels.api as sm\n",
    "import os\n",
    "import math"
   ]
  },
  {
   "cell_type": "markdown",
   "id": "f53108db",
   "metadata": {},
   "source": [
    "# No Bias Data Set"
   ]
  },
  {
   "cell_type": "code",
   "execution_count": 120,
   "id": "a33874f3-58d5-41cd-9ce0-3755f06d8123",
   "metadata": {},
   "outputs": [
    {
     "name": "stdout",
     "output_type": "stream",
     "text": [
      "/Users/saniyavaidya/Documents/4580_final_project/simulation_data/9026_logit_data/9026_logit_rawdata.csv\n"
     ]
    },
    {
     "data": {
      "text/html": [
       "<div>\n",
       "<style scoped>\n",
       "    .dataframe tbody tr th:only-of-type {\n",
       "        vertical-align: middle;\n",
       "    }\n",
       "\n",
       "    .dataframe tbody tr th {\n",
       "        vertical-align: top;\n",
       "    }\n",
       "\n",
       "    .dataframe thead th {\n",
       "        text-align: right;\n",
       "    }\n",
       "</style>\n",
       "<table border=\"1\" class=\"dataframe\">\n",
       "  <thead>\n",
       "    <tr style=\"text-align: right;\">\n",
       "      <th></th>\n",
       "      <th>0</th>\n",
       "      <th>1</th>\n",
       "      <th>2</th>\n",
       "      <th>3</th>\n",
       "      <th>4</th>\n",
       "      <th>5</th>\n",
       "    </tr>\n",
       "  </thead>\n",
       "  <tbody>\n",
       "    <tr>\n",
       "      <th>0</th>\n",
       "      <td>-8.0</td>\n",
       "      <td>1.0</td>\n",
       "      <td>0.578173</td>\n",
       "      <td>0.780000</td>\n",
       "      <td>0.875385</td>\n",
       "      <td>0.835897</td>\n",
       "    </tr>\n",
       "    <tr>\n",
       "      <th>1</th>\n",
       "      <td>-8.0</td>\n",
       "      <td>1.0</td>\n",
       "      <td>0.586394</td>\n",
       "      <td>0.754286</td>\n",
       "      <td>0.820769</td>\n",
       "      <td>0.817949</td>\n",
       "    </tr>\n",
       "    <tr>\n",
       "      <th>2</th>\n",
       "      <td>-8.0</td>\n",
       "      <td>1.0</td>\n",
       "      <td>0.590096</td>\n",
       "      <td>0.751429</td>\n",
       "      <td>0.837692</td>\n",
       "      <td>0.943590</td>\n",
       "    </tr>\n",
       "    <tr>\n",
       "      <th>3</th>\n",
       "      <td>-8.0</td>\n",
       "      <td>1.0</td>\n",
       "      <td>0.566106</td>\n",
       "      <td>0.761978</td>\n",
       "      <td>0.857692</td>\n",
       "      <td>0.889744</td>\n",
       "    </tr>\n",
       "    <tr>\n",
       "      <th>4</th>\n",
       "      <td>-8.0</td>\n",
       "      <td>1.0</td>\n",
       "      <td>0.584760</td>\n",
       "      <td>0.747033</td>\n",
       "      <td>0.823846</td>\n",
       "      <td>0.915385</td>\n",
       "    </tr>\n",
       "  </tbody>\n",
       "</table>\n",
       "</div>"
      ],
      "text/plain": [
       "     0    1         2         3         4         5\n",
       "0 -8.0  1.0  0.578173  0.780000  0.875385  0.835897\n",
       "1 -8.0  1.0  0.586394  0.754286  0.820769  0.817949\n",
       "2 -8.0  1.0  0.590096  0.751429  0.837692  0.943590\n",
       "3 -8.0  1.0  0.566106  0.761978  0.857692  0.889744\n",
       "4 -8.0  1.0  0.584760  0.747033  0.823846  0.915385"
      ]
     },
     "execution_count": 120,
     "metadata": {},
     "output_type": "execute_result"
    }
   ],
   "source": [
    "ts = '9026'\n",
    "sim_type = 'logit'\n",
    "\n",
    "path = os.path.join(os.getcwd(), \"simulation_data\")\n",
    "folder_path = os.path.join(path, \"%s_%s_data\" % (ts, sim_type))\n",
    "listing = ts + \"_\" + sim_type + \"_rawdata.csv\"\n",
    "path = os.path.join(folder_path, listing)\n",
    "print(path)\n",
    "\n",
    "df_nb = pd.read_csv(path,header=None).T\n",
    "df_nb.head()"
   ]
  },
  {
   "cell_type": "code",
   "execution_count": 125,
   "id": "aa4fd7cd-5cf4-43d6-b70f-0843594ea2d4",
   "metadata": {},
   "outputs": [
    {
     "data": {
      "text/html": [
       "<div>\n",
       "<style scoped>\n",
       "    .dataframe tbody tr th:only-of-type {\n",
       "        vertical-align: middle;\n",
       "    }\n",
       "\n",
       "    .dataframe tbody tr th {\n",
       "        vertical-align: top;\n",
       "    }\n",
       "\n",
       "    .dataframe thead th {\n",
       "        text-align: right;\n",
       "    }\n",
       "</style>\n",
       "<table border=\"1\" class=\"dataframe\">\n",
       "  <thead>\n",
       "    <tr style=\"text-align: right;\">\n",
       "      <th></th>\n",
       "      <th>alpha</th>\n",
       "      <th>gamma</th>\n",
       "      <th>% Men in J</th>\n",
       "      <th>% Men in M</th>\n",
       "      <th>% Men in S</th>\n",
       "      <th>% Men in E</th>\n",
       "      <th>bias</th>\n",
       "    </tr>\n",
       "  </thead>\n",
       "  <tbody>\n",
       "    <tr>\n",
       "      <th>0</th>\n",
       "      <td>-8.0</td>\n",
       "      <td>1.0</td>\n",
       "      <td>0.578173</td>\n",
       "      <td>0.780000</td>\n",
       "      <td>0.875385</td>\n",
       "      <td>0.835897</td>\n",
       "      <td>0.000335</td>\n",
       "    </tr>\n",
       "    <tr>\n",
       "      <th>1</th>\n",
       "      <td>-8.0</td>\n",
       "      <td>1.0</td>\n",
       "      <td>0.586394</td>\n",
       "      <td>0.754286</td>\n",
       "      <td>0.820769</td>\n",
       "      <td>0.817949</td>\n",
       "      <td>0.000335</td>\n",
       "    </tr>\n",
       "    <tr>\n",
       "      <th>2</th>\n",
       "      <td>-8.0</td>\n",
       "      <td>1.0</td>\n",
       "      <td>0.590096</td>\n",
       "      <td>0.751429</td>\n",
       "      <td>0.837692</td>\n",
       "      <td>0.943590</td>\n",
       "      <td>0.000335</td>\n",
       "    </tr>\n",
       "    <tr>\n",
       "      <th>3</th>\n",
       "      <td>-8.0</td>\n",
       "      <td>1.0</td>\n",
       "      <td>0.566106</td>\n",
       "      <td>0.761978</td>\n",
       "      <td>0.857692</td>\n",
       "      <td>0.889744</td>\n",
       "      <td>0.000335</td>\n",
       "    </tr>\n",
       "    <tr>\n",
       "      <th>4</th>\n",
       "      <td>-8.0</td>\n",
       "      <td>1.0</td>\n",
       "      <td>0.584760</td>\n",
       "      <td>0.747033</td>\n",
       "      <td>0.823846</td>\n",
       "      <td>0.915385</td>\n",
       "      <td>0.000335</td>\n",
       "    </tr>\n",
       "  </tbody>\n",
       "</table>\n",
       "</div>"
      ],
      "text/plain": [
       "   alpha  gamma  % Men in J  % Men in M  % Men in S  % Men in E      bias\n",
       "0   -8.0    1.0    0.578173    0.780000    0.875385    0.835897  0.000335\n",
       "1   -8.0    1.0    0.586394    0.754286    0.820769    0.817949  0.000335\n",
       "2   -8.0    1.0    0.590096    0.751429    0.837692    0.943590  0.000335\n",
       "3   -8.0    1.0    0.566106    0.761978    0.857692    0.889744  0.000335\n",
       "4   -8.0    1.0    0.584760    0.747033    0.823846    0.915385  0.000335"
      ]
     },
     "execution_count": 125,
     "metadata": {},
     "output_type": "execute_result"
    }
   ],
   "source": [
    "df_nb = df_nb.rename(columns={0: \"alpha\", 1: \"gamma\", 2: \"% Men in J\", 3: \"% Men in M\", 4: \"% Men in S\" , 5: \"% Men in E\"})\n",
    "df_nb['bias'] = (math.e**df_nb['alpha']) / (1+math.e**df_nb['alpha'])\n",
    "df_nb.head()"
   ]
  },
  {
   "cell_type": "code",
   "execution_count": 132,
   "id": "c5fd3fce",
   "metadata": {},
   "outputs": [],
   "source": [
    "mean_nb = df_nb.mean()\n",
    "std_nb = df_nb.std()\n",
    "hw_nb = 1.96*std_nb/math.sqrt(len(df_nb))"
   ]
  },
  {
   "cell_type": "markdown",
   "id": "04d3bd5d",
   "metadata": {},
   "source": [
    "# Biased Dataset"
   ]
  },
  {
   "cell_type": "code",
   "execution_count": 130,
   "id": "ad6372a9",
   "metadata": {},
   "outputs": [
    {
     "name": "stdout",
     "output_type": "stream",
     "text": [
      "/Users/saniyavaidya/Documents/4580_final_project/simulation_data/71704_logit_data/71704_logit_rawdata.csv\n"
     ]
    },
    {
     "data": {
      "text/html": [
       "<div>\n",
       "<style scoped>\n",
       "    .dataframe tbody tr th:only-of-type {\n",
       "        vertical-align: middle;\n",
       "    }\n",
       "\n",
       "    .dataframe tbody tr th {\n",
       "        vertical-align: top;\n",
       "    }\n",
       "\n",
       "    .dataframe thead th {\n",
       "        text-align: right;\n",
       "    }\n",
       "</style>\n",
       "<table border=\"1\" class=\"dataframe\">\n",
       "  <thead>\n",
       "    <tr style=\"text-align: right;\">\n",
       "      <th></th>\n",
       "      <th>0</th>\n",
       "      <th>1</th>\n",
       "      <th>2</th>\n",
       "      <th>3</th>\n",
       "      <th>4</th>\n",
       "      <th>5</th>\n",
       "    </tr>\n",
       "  </thead>\n",
       "  <tbody>\n",
       "    <tr>\n",
       "      <th>0</th>\n",
       "      <td>8.0</td>\n",
       "      <td>1.0</td>\n",
       "      <td>0.587115</td>\n",
       "      <td>0.787033</td>\n",
       "      <td>0.907692</td>\n",
       "      <td>0.976923</td>\n",
       "    </tr>\n",
       "    <tr>\n",
       "      <th>1</th>\n",
       "      <td>8.0</td>\n",
       "      <td>1.0</td>\n",
       "      <td>0.574808</td>\n",
       "      <td>0.775165</td>\n",
       "      <td>0.910000</td>\n",
       "      <td>0.956410</td>\n",
       "    </tr>\n",
       "    <tr>\n",
       "      <th>2</th>\n",
       "      <td>8.0</td>\n",
       "      <td>1.0</td>\n",
       "      <td>0.569808</td>\n",
       "      <td>0.761758</td>\n",
       "      <td>0.900769</td>\n",
       "      <td>0.966667</td>\n",
       "    </tr>\n",
       "    <tr>\n",
       "      <th>3</th>\n",
       "      <td>8.0</td>\n",
       "      <td>1.0</td>\n",
       "      <td>0.574231</td>\n",
       "      <td>0.737363</td>\n",
       "      <td>0.856923</td>\n",
       "      <td>0.961538</td>\n",
       "    </tr>\n",
       "    <tr>\n",
       "      <th>4</th>\n",
       "      <td>8.0</td>\n",
       "      <td>1.0</td>\n",
       "      <td>0.573125</td>\n",
       "      <td>0.751648</td>\n",
       "      <td>0.840000</td>\n",
       "      <td>0.976923</td>\n",
       "    </tr>\n",
       "  </tbody>\n",
       "</table>\n",
       "</div>"
      ],
      "text/plain": [
       "     0    1         2         3         4         5\n",
       "0  8.0  1.0  0.587115  0.787033  0.907692  0.976923\n",
       "1  8.0  1.0  0.574808  0.775165  0.910000  0.956410\n",
       "2  8.0  1.0  0.569808  0.761758  0.900769  0.966667\n",
       "3  8.0  1.0  0.574231  0.737363  0.856923  0.961538\n",
       "4  8.0  1.0  0.573125  0.751648  0.840000  0.976923"
      ]
     },
     "execution_count": 130,
     "metadata": {},
     "output_type": "execute_result"
    }
   ],
   "source": [
    "ts = '71704'\n",
    "sim_type = 'logit'\n",
    "\n",
    "path = os.path.join(os.getcwd(), \"simulation_data\")\n",
    "folder_path = os.path.join(path, \"%s_%s_data\" % (ts, sim_type))\n",
    "listing = ts + \"_\" + sim_type + \"_rawdata.csv\"\n",
    "path = os.path.join(folder_path, listing)\n",
    "print(path)\n",
    "\n",
    "df_b = pd.read_csv(path,header=None).T\n",
    "df_b.head()"
   ]
  },
  {
   "cell_type": "code",
   "execution_count": 131,
   "id": "ffc3c937",
   "metadata": {},
   "outputs": [
    {
     "data": {
      "text/html": [
       "<div>\n",
       "<style scoped>\n",
       "    .dataframe tbody tr th:only-of-type {\n",
       "        vertical-align: middle;\n",
       "    }\n",
       "\n",
       "    .dataframe tbody tr th {\n",
       "        vertical-align: top;\n",
       "    }\n",
       "\n",
       "    .dataframe thead th {\n",
       "        text-align: right;\n",
       "    }\n",
       "</style>\n",
       "<table border=\"1\" class=\"dataframe\">\n",
       "  <thead>\n",
       "    <tr style=\"text-align: right;\">\n",
       "      <th></th>\n",
       "      <th>alpha</th>\n",
       "      <th>gamma</th>\n",
       "      <th>% Men in J</th>\n",
       "      <th>% Men in M</th>\n",
       "      <th>% Men in S</th>\n",
       "      <th>% Men in E</th>\n",
       "      <th>bias</th>\n",
       "    </tr>\n",
       "  </thead>\n",
       "  <tbody>\n",
       "    <tr>\n",
       "      <th>0</th>\n",
       "      <td>8.0</td>\n",
       "      <td>1.0</td>\n",
       "      <td>0.587115</td>\n",
       "      <td>0.787033</td>\n",
       "      <td>0.907692</td>\n",
       "      <td>0.976923</td>\n",
       "      <td>0.999665</td>\n",
       "    </tr>\n",
       "    <tr>\n",
       "      <th>1</th>\n",
       "      <td>8.0</td>\n",
       "      <td>1.0</td>\n",
       "      <td>0.574808</td>\n",
       "      <td>0.775165</td>\n",
       "      <td>0.910000</td>\n",
       "      <td>0.956410</td>\n",
       "      <td>0.999665</td>\n",
       "    </tr>\n",
       "    <tr>\n",
       "      <th>2</th>\n",
       "      <td>8.0</td>\n",
       "      <td>1.0</td>\n",
       "      <td>0.569808</td>\n",
       "      <td>0.761758</td>\n",
       "      <td>0.900769</td>\n",
       "      <td>0.966667</td>\n",
       "      <td>0.999665</td>\n",
       "    </tr>\n",
       "    <tr>\n",
       "      <th>3</th>\n",
       "      <td>8.0</td>\n",
       "      <td>1.0</td>\n",
       "      <td>0.574231</td>\n",
       "      <td>0.737363</td>\n",
       "      <td>0.856923</td>\n",
       "      <td>0.961538</td>\n",
       "      <td>0.999665</td>\n",
       "    </tr>\n",
       "    <tr>\n",
       "      <th>4</th>\n",
       "      <td>8.0</td>\n",
       "      <td>1.0</td>\n",
       "      <td>0.573125</td>\n",
       "      <td>0.751648</td>\n",
       "      <td>0.840000</td>\n",
       "      <td>0.976923</td>\n",
       "      <td>0.999665</td>\n",
       "    </tr>\n",
       "  </tbody>\n",
       "</table>\n",
       "</div>"
      ],
      "text/plain": [
       "   alpha  gamma  % Men in J  % Men in M  % Men in S  % Men in E      bias\n",
       "0    8.0    1.0    0.587115    0.787033    0.907692    0.976923  0.999665\n",
       "1    8.0    1.0    0.574808    0.775165    0.910000    0.956410  0.999665\n",
       "2    8.0    1.0    0.569808    0.761758    0.900769    0.966667  0.999665\n",
       "3    8.0    1.0    0.574231    0.737363    0.856923    0.961538  0.999665\n",
       "4    8.0    1.0    0.573125    0.751648    0.840000    0.976923  0.999665"
      ]
     },
     "execution_count": 131,
     "metadata": {},
     "output_type": "execute_result"
    }
   ],
   "source": [
    "df_b = df_b.rename(columns={0: \"alpha\", 1: \"gamma\", 2: \"% Men in J\", 3: \"% Men in M\", 4: \"% Men in S\" , 5: \"% Men in E\"})\n",
    "df_b['bias'] = (math.e**df_b['alpha']) / (1+math.e**df_b['alpha'])\n",
    "df_b.head()"
   ]
  },
  {
   "cell_type": "code",
   "execution_count": 133,
   "id": "da714c9f",
   "metadata": {},
   "outputs": [],
   "source": [
    "mean_b = df_b.mean()\n",
    "std_b = df_b.std()\n",
    "hw_b = 1.96*std_b/math.sqrt(len(df_b))"
   ]
  },
  {
   "cell_type": "markdown",
   "id": "a9fd7651",
   "metadata": {},
   "source": [
    "# Bias vs. No Bias Comparison"
   ]
  },
  {
   "cell_type": "code",
   "execution_count": 134,
   "id": "b13f98c6",
   "metadata": {},
   "outputs": [
    {
     "data": {
      "text/plain": [
       "([<matplotlib.axis.XTick at 0x7fa9881106d0>,\n",
       "  <matplotlib.axis.XTick at 0x7fa9881106a0>,\n",
       "  <matplotlib.axis.XTick at 0x7fa988114220>,\n",
       "  <matplotlib.axis.XTick at 0x7fa988142f10>],\n",
       " [Text(1, 0, 'J'), Text(2, 0, 'M'), Text(3, 0, 'S'), Text(4, 0, 'E')])"
      ]
     },
     "execution_count": 134,
     "metadata": {},
     "output_type": "execute_result"
    },
    {
     "data": {
      "image/png": "[encoded data removed]",
      "text/plain": [
       "<Figure size 432x288 with 1 Axes>"
      ]
     },
     "metadata": {
      "needs_background": "light"
     },
     "output_type": "display_data"
    }
   ],
   "source": [
    "x = [1,2,3,4]\n",
    "plt.errorbar(x=x, y=mean_nb[2:6], yerr=hw_nb[2:6])\n",
    "plt.errorbar(x=x, y=mean_b[2:6], yerr=hw_b[2:6])\n",
    "xticks=['J','M','S','E']\n",
    "plt.title('No bias mean proportion of men')\n",
    "plt.xticks(x,xticks)"
   ]
  },
  {
   "cell_type": "code",
   "execution_count": 79,
   "id": "a8f780ea-0512-42d8-99ba-bd157bce40a3",
   "metadata": {},
   "outputs": [
    {
     "data": {
      "text/plain": [
       "[<matplotlib.lines.Line2D at 0x7fa9a416bcd0>]"
      ]
     },
     "execution_count": 79,
     "metadata": {},
     "output_type": "execute_result"
    },
    {
     "data": {
      "image/png": "[encoded data removed]",
      "text/plain": [
       "<Figure size 432x288 with 1 Axes>"
      ]
     },
     "metadata": {
      "needs_background": "light"
     },
     "output_type": "display_data"
    }
   ],
   "source": [
    "#plt.plot(df['gamma'],df['% Men in J'],\".\")\n",
    "#plt.plot(df['gamma'],df['% Men in M'],\".\")\n",
    "plt.plot(df['gamma'],df['% Men in S'],\".\")\n",
    "#plt.plot(df['gamma'],df['% Men in E'],\".\")"
   ]
  },
  {
   "cell_type": "code",
   "execution_count": 78,
   "id": "752df523-1669-426e-b29f-326d7a49ea39",
   "metadata": {},
   "outputs": [
    {
     "data": {
      "text/plain": [
       "[<matplotlib.lines.Line2D at 0x7fa9816252b0>]"
      ]
     },
     "execution_count": 78,
     "metadata": {},
     "output_type": "execute_result"
    },
    {
     "data": {
      "image/png": "[encoded data removed]",
      "text/plain": [
       "<Figure size 432x288 with 1 Axes>"
      ]
     },
     "metadata": {
      "needs_background": "light"
     },
     "output_type": "display_data"
    }
   ],
   "source": [
    "#plt.plot(df['bias'],df['% Men in J'],'.')\n",
    "#plt.plot(df['alpha'],df['% Men in M'],'.')\n",
    "#plt.plot(df['bias'],df['% Men in M'],'.')\n",
    "plt.plot(df_nb['bias'],df_nb['% Men in S'],'.')\n",
    "#plt.plot(df['bias'],df['% Men in E'],'.')"
   ]
  },
  {
   "cell_type": "code",
   "execution_count": 80,
   "id": "1640639c-2380-4fc3-8c3f-99621f360ca5",
   "metadata": {},
   "outputs": [
    {
     "data": {
      "text/html": [
       "<div>\n",
       "<style scoped>\n",
       "    .dataframe tbody tr th:only-of-type {\n",
       "        vertical-align: middle;\n",
       "    }\n",
       "\n",
       "    .dataframe tbody tr th {\n",
       "        vertical-align: top;\n",
       "    }\n",
       "\n",
       "    .dataframe thead th {\n",
       "        text-align: right;\n",
       "    }\n",
       "</style>\n",
       "<table border=\"1\" class=\"dataframe\">\n",
       "  <thead>\n",
       "    <tr style=\"text-align: right;\">\n",
       "      <th></th>\n",
       "      <th>alpha</th>\n",
       "      <th>gamma</th>\n",
       "    </tr>\n",
       "  </thead>\n",
       "  <tbody>\n",
       "    <tr>\n",
       "      <th>0</th>\n",
       "      <td>-8.0</td>\n",
       "      <td>1.0</td>\n",
       "    </tr>\n",
       "    <tr>\n",
       "      <th>1</th>\n",
       "      <td>-8.0</td>\n",
       "      <td>1.0</td>\n",
       "    </tr>\n",
       "    <tr>\n",
       "      <th>2</th>\n",
       "      <td>-8.0</td>\n",
       "      <td>1.0</td>\n",
       "    </tr>\n",
       "    <tr>\n",
       "      <th>3</th>\n",
       "      <td>-8.0</td>\n",
       "      <td>1.0</td>\n",
       "    </tr>\n",
       "    <tr>\n",
       "      <th>4</th>\n",
       "      <td>-8.0</td>\n",
       "      <td>1.0</td>\n",
       "    </tr>\n",
       "  </tbody>\n",
       "</table>\n",
       "</div>"
      ],
      "text/plain": [
       "   alpha  gamma\n",
       "0   -8.0    1.0\n",
       "1   -8.0    1.0\n",
       "2   -8.0    1.0\n",
       "3   -8.0    1.0\n",
       "4   -8.0    1.0"
      ]
     },
     "execution_count": 80,
     "metadata": {},
     "output_type": "execute_result"
    }
   ],
   "source": [
    "df[['alpha','gamma']].head()"
   ]
  },
  {
   "cell_type": "code",
   "execution_count": 70,
   "id": "9bae7b26-5b5d-4b9e-bb59-87c27e040301",
   "metadata": {},
   "outputs": [
    {
     "data": {
      "text/html": [
       "<table class=\"simpletable\">\n",
       "<caption>OLS Regression Results</caption>\n",
       "<tr>\n",
       "  <th>Dep. Variable:</th>       <td>% Men in S</td>    <th>  R-squared:         </th> <td>   0.066</td>\n",
       "</tr>\n",
       "<tr>\n",
       "  <th>Model:</th>                   <td>OLS</td>       <th>  Adj. R-squared:    </th> <td>  -0.015</td>\n",
       "</tr>\n",
       "<tr>\n",
       "  <th>Method:</th>             <td>Least Squares</td>  <th>  F-statistic:       </th> <td>  0.8151</td>\n",
       "</tr>\n",
       "<tr>\n",
       "  <th>Date:</th>             <td>Mon, 11 Dec 2023</td> <th>  Prob (F-statistic):</th>  <td> 0.455</td> \n",
       "</tr>\n",
       "<tr>\n",
       "  <th>Time:</th>                 <td>09:29:58</td>     <th>  Log-Likelihood:    </th> <td>  60.899</td>\n",
       "</tr>\n",
       "<tr>\n",
       "  <th>No. Observations:</th>      <td>    26</td>      <th>  AIC:               </th> <td>  -115.8</td>\n",
       "</tr>\n",
       "<tr>\n",
       "  <th>Df Residuals:</th>          <td>    23</td>      <th>  BIC:               </th> <td>  -112.0</td>\n",
       "</tr>\n",
       "<tr>\n",
       "  <th>Df Model:</th>              <td>     2</td>      <th>                     </th>     <td> </td>   \n",
       "</tr>\n",
       "<tr>\n",
       "  <th>Covariance Type:</th>      <td>nonrobust</td>    <th>                     </th>     <td> </td>   \n",
       "</tr>\n",
       "</table>\n",
       "<table class=\"simpletable\">\n",
       "<tr>\n",
       "    <td></td>       <th>coef</th>     <th>std err</th>      <th>t</th>      <th>P>|t|</th>  <th>[0.025</th>    <th>0.975]</th>  \n",
       "</tr>\n",
       "<tr>\n",
       "  <th>const</th> <td>    0.8789</td> <td>    0.019</td> <td>   47.132</td> <td> 0.000</td> <td>    0.840</td> <td>    0.917</td>\n",
       "</tr>\n",
       "<tr>\n",
       "  <th>bias</th>  <td>   -0.0268</td> <td>    0.026</td> <td>   -1.016</td> <td> 0.320</td> <td>   -0.081</td> <td>    0.028</td>\n",
       "</tr>\n",
       "<tr>\n",
       "  <th>gamma</th> <td>   -0.0011</td> <td>    0.001</td> <td>   -0.742</td> <td> 0.466</td> <td>   -0.004</td> <td>    0.002</td>\n",
       "</tr>\n",
       "</table>\n",
       "<table class=\"simpletable\">\n",
       "<tr>\n",
       "  <th>Omnibus:</th>       <td> 5.029</td> <th>  Durbin-Watson:     </th> <td>   2.110</td>\n",
       "</tr>\n",
       "<tr>\n",
       "  <th>Prob(Omnibus):</th> <td> 0.081</td> <th>  Jarque-Bera (JB):  </th> <td>   3.369</td>\n",
       "</tr>\n",
       "<tr>\n",
       "  <th>Skew:</th>          <td>-0.843</td> <th>  Prob(JB):          </th> <td>   0.185</td>\n",
       "</tr>\n",
       "<tr>\n",
       "  <th>Kurtosis:</th>      <td> 3.514</td> <th>  Cond. No.          </th> <td>    50.5</td>\n",
       "</tr>\n",
       "</table><br/><br/>Notes:<br/>[1] Standard Errors assume that the covariance matrix of the errors is correctly specified."
      ],
      "text/plain": [
       "<class 'statsmodels.iolib.summary.Summary'>\n",
       "\"\"\"\n",
       "                            OLS Regression Results                            \n",
       "==============================================================================\n",
       "Dep. Variable:             % Men in S   R-squared:                       0.066\n",
       "Model:                            OLS   Adj. R-squared:                 -0.015\n",
       "Method:                 Least Squares   F-statistic:                    0.8151\n",
       "Date:                Mon, 11 Dec 2023   Prob (F-statistic):              0.455\n",
       "Time:                        09:29:58   Log-Likelihood:                 60.899\n",
       "No. Observations:                  26   AIC:                            -115.8\n",
       "Df Residuals:                      23   BIC:                            -112.0\n",
       "Df Model:                           2                                         \n",
       "Covariance Type:            nonrobust                                         \n",
       "==============================================================================\n",
       "                 coef    std err          t      P>|t|      [0.025      0.975]\n",
       "------------------------------------------------------------------------------\n",
       "const          0.8789      0.019     47.132      0.000       0.840       0.917\n",
       "bias          -0.0268      0.026     -1.016      0.320      -0.081       0.028\n",
       "gamma         -0.0011      0.001     -0.742      0.466      -0.004       0.002\n",
       "==============================================================================\n",
       "Omnibus:                        5.029   Durbin-Watson:                   2.110\n",
       "Prob(Omnibus):                  0.081   Jarque-Bera (JB):                3.369\n",
       "Skew:                          -0.843   Prob(JB):                        0.185\n",
       "Kurtosis:                       3.514   Cond. No.                         50.5\n",
       "==============================================================================\n",
       "\n",
       "Notes:\n",
       "[1] Standard Errors assume that the covariance matrix of the errors is correctly specified.\n",
       "\"\"\""
      ]
     },
     "execution_count": 70,
     "metadata": {},
     "output_type": "execute_result"
    }
   ],
   "source": [
    "model = sm.OLS(df['% Men in S'], sm.add_constant(df[['bias','gamma']])).fit()\n",
    "model.summary()"
   ]
  },
  {
   "cell_type": "code",
   "execution_count": 71,
   "id": "c62b784b-6ebb-4a60-bff6-7edb81f2ddab",
   "metadata": {},
   "outputs": [
    {
     "data": {
      "text/html": [
       "<table class=\"simpletable\">\n",
       "<caption>OLS Regression Results</caption>\n",
       "<tr>\n",
       "  <th>Dep. Variable:</th>       <td>% Men in S</td>    <th>  R-squared:         </th> <td>   0.044</td>\n",
       "</tr>\n",
       "<tr>\n",
       "  <th>Model:</th>                   <td>OLS</td>       <th>  Adj. R-squared:    </th> <td>   0.004</td>\n",
       "</tr>\n",
       "<tr>\n",
       "  <th>Method:</th>             <td>Least Squares</td>  <th>  F-statistic:       </th> <td>   1.101</td>\n",
       "</tr>\n",
       "<tr>\n",
       "  <th>Date:</th>             <td>Mon, 11 Dec 2023</td> <th>  Prob (F-statistic):</th>  <td> 0.305</td> \n",
       "</tr>\n",
       "<tr>\n",
       "  <th>Time:</th>                 <td>09:30:07</td>     <th>  Log-Likelihood:    </th> <td>  60.592</td>\n",
       "</tr>\n",
       "<tr>\n",
       "  <th>No. Observations:</th>      <td>    26</td>      <th>  AIC:               </th> <td>  -117.2</td>\n",
       "</tr>\n",
       "<tr>\n",
       "  <th>Df Residuals:</th>          <td>    24</td>      <th>  BIC:               </th> <td>  -114.7</td>\n",
       "</tr>\n",
       "<tr>\n",
       "  <th>Df Model:</th>              <td>     1</td>      <th>                     </th>     <td> </td>   \n",
       "</tr>\n",
       "<tr>\n",
       "  <th>Covariance Type:</th>      <td>nonrobust</td>    <th>                     </th>     <td> </td>   \n",
       "</tr>\n",
       "</table>\n",
       "<table class=\"simpletable\">\n",
       "<tr>\n",
       "    <td></td>       <th>coef</th>     <th>std err</th>      <th>t</th>      <th>P>|t|</th>  <th>[0.025</th>    <th>0.975]</th>  \n",
       "</tr>\n",
       "<tr>\n",
       "  <th>const</th> <td>    0.8714</td> <td>    0.016</td> <td>   55.905</td> <td> 0.000</td> <td>    0.839</td> <td>    0.904</td>\n",
       "</tr>\n",
       "<tr>\n",
       "  <th>bias</th>  <td>   -0.0274</td> <td>    0.026</td> <td>   -1.049</td> <td> 0.305</td> <td>   -0.081</td> <td>    0.027</td>\n",
       "</tr>\n",
       "</table>\n",
       "<table class=\"simpletable\">\n",
       "<tr>\n",
       "  <th>Omnibus:</th>       <td> 4.954</td> <th>  Durbin-Watson:     </th> <td>   2.070</td>\n",
       "</tr>\n",
       "<tr>\n",
       "  <th>Prob(Omnibus):</th> <td> 0.084</td> <th>  Jarque-Bera (JB):  </th> <td>   3.190</td>\n",
       "</tr>\n",
       "<tr>\n",
       "  <th>Skew:</th>          <td>-0.794</td> <th>  Prob(JB):          </th> <td>   0.203</td>\n",
       "</tr>\n",
       "<tr>\n",
       "  <th>Kurtosis:</th>      <td> 3.650</td> <th>  Cond. No.          </th> <td>    7.24</td>\n",
       "</tr>\n",
       "</table><br/><br/>Notes:<br/>[1] Standard Errors assume that the covariance matrix of the errors is correctly specified."
      ],
      "text/plain": [
       "<class 'statsmodels.iolib.summary.Summary'>\n",
       "\"\"\"\n",
       "                            OLS Regression Results                            \n",
       "==============================================================================\n",
       "Dep. Variable:             % Men in S   R-squared:                       0.044\n",
       "Model:                            OLS   Adj. R-squared:                  0.004\n",
       "Method:                 Least Squares   F-statistic:                     1.101\n",
       "Date:                Mon, 11 Dec 2023   Prob (F-statistic):              0.305\n",
       "Time:                        09:30:07   Log-Likelihood:                 60.592\n",
       "No. Observations:                  26   AIC:                            -117.2\n",
       "Df Residuals:                      24   BIC:                            -114.7\n",
       "Df Model:                           1                                         \n",
       "Covariance Type:            nonrobust                                         \n",
       "==============================================================================\n",
       "                 coef    std err          t      P>|t|      [0.025      0.975]\n",
       "------------------------------------------------------------------------------\n",
       "const          0.8714      0.016     55.905      0.000       0.839       0.904\n",
       "bias          -0.0274      0.026     -1.049      0.305      -0.081       0.027\n",
       "==============================================================================\n",
       "Omnibus:                        4.954   Durbin-Watson:                   2.070\n",
       "Prob(Omnibus):                  0.084   Jarque-Bera (JB):                3.190\n",
       "Skew:                          -0.794   Prob(JB):                        0.203\n",
       "Kurtosis:                       3.650   Cond. No.                         7.24\n",
       "==============================================================================\n",
       "\n",
       "Notes:\n",
       "[1] Standard Errors assume that the covariance matrix of the errors is correctly specified.\n",
       "\"\"\""
      ]
     },
     "execution_count": 71,
     "metadata": {},
     "output_type": "execute_result"
    }
   ],
   "source": [
    "alpha_model = sm.OLS(df['% Men in S'], sm.add_constant(df['bias'])).fit()\n",
    "alpha_model.summary()"
   ]
  },
  {
   "cell_type": "code",
   "execution_count": 72,
   "id": "207e4ea2-0510-4143-add3-f1b815e7902e",
   "metadata": {},
   "outputs": [
    {
     "data": {
      "text/plain": [
       "[<matplotlib.lines.Line2D at 0x7fa99012c610>]"
      ]
     },
     "execution_count": 72,
     "metadata": {},
     "output_type": "execute_result"
    },
    {
     "data": {
      "image/png": "[encoded data removed]",
      "text/plain": [
       "<Figure size 432x288 with 1 Axes>"
      ]
     },
     "metadata": {
      "needs_background": "light"
     },
     "output_type": "display_data"
    }
   ],
   "source": [
    "#plt.plot(df['alpha'],df['% Men in E'],\".\")\n",
    "X = np.arange(0,1,0.1)\n",
    "Y = alpha_model.params[0] + alpha_model.params[1]*X\n",
    "\n",
    "plt.plot(df['bias'],df['% Men in S'],\".\")\n",
    "plt.plot(X,Y)"
   ]
  },
  {
   "cell_type": "code",
   "execution_count": 73,
   "id": "15dd0138-54e7-4349-a8e4-ec57cf256ff1",
   "metadata": {},
   "outputs": [
    {
     "data": {
      "text/plain": [
       "[<matplotlib.lines.Line2D at 0x7fa9814f89d0>]"
      ]
     },
     "execution_count": 73,
     "metadata": {},
     "output_type": "execute_result"
    },
    {
     "data": {
      "image/png": "[encoded data removed]",
      "text/plain": [
       "<Figure size 432x288 with 1 Axes>"
      ]
     },
     "metadata": {
      "needs_background": "light"
     },
     "output_type": "display_data"
    }
   ],
   "source": [
    "plt.plot(df['bias'],alpha_model.resid,\".\")\n",
    "plt.plot(np.arange(-40,40,1),np.zeros(80),color='black')"
   ]
  },
  {
   "cell_type": "code",
   "execution_count": null,
   "id": "df58e1ac-830d-4600-8111-cf1d71e72e7c",
   "metadata": {},
   "outputs": [],
   "source": []
  },
  {
   "cell_type": "code",
   "execution_count": null,
   "id": "79231a19-6143-4090-a795-1c2744308295",
   "metadata": {},
   "outputs": [],
   "source": []
  },
  {
   "cell_type": "code",
   "execution_count": null,
   "id": "2075d880-97d0-4885-8c63-a6fdbce4555d",
   "metadata": {},
   "outputs": [],
   "source": []
  },
  {
   "cell_type": "code",
   "execution_count": null,
   "id": "18f84ca2-1da1-4326-a57a-424606cc886f",
   "metadata": {},
   "outputs": [],
   "source": []
  },
  {
   "cell_type": "code",
   "execution_count": null,
   "id": "4c5f414f-a7d8-4453-a4b2-943b9ab7edfb",
   "metadata": {},
   "outputs": [],
   "source": []
  },
  {
   "cell_type": "code",
   "execution_count": null,
   "id": "db30a5b4-6e08-4f90-afe6-2386fed63804",
   "metadata": {},
   "outputs": [],
   "source": []
  },
  {
   "cell_type": "code",
   "execution_count": null,
   "id": "a3fd430f-3664-4bca-943c-444e755dcb9c",
   "metadata": {},
   "outputs": [],
   "source": []
  },
  {
   "cell_type": "code",
   "execution_count": null,
   "id": "a936feae-b149-490e-bd55-66ca0b914193",
   "metadata": {},
   "outputs": [],
   "source": []
  },
  {
   "cell_type": "code",
   "execution_count": null,
   "id": "6998ea6d-f700-4b0d-a345-774af07085f5",
   "metadata": {},
   "outputs": [],
   "source": []
  },
  {
   "cell_type": "code",
   "execution_count": null,
   "id": "daa128a0-143e-46f6-a017-a9252e4ef35b",
   "metadata": {},
   "outputs": [],
   "source": []
  },
  {
   "cell_type": "code",
   "execution_count": 74,
   "id": "9386a8e4-c3aa-42ab-a8f6-e9d1d11b6211",
   "metadata": {},
   "outputs": [
    {
     "data": {
      "text/html": [
       "<table class=\"simpletable\">\n",
       "<caption>OLS Regression Results</caption>\n",
       "<tr>\n",
       "  <th>Dep. Variable:</th>       <td>% Men in M</td>    <th>  R-squared:         </th> <td>   0.009</td>\n",
       "</tr>\n",
       "<tr>\n",
       "  <th>Model:</th>                   <td>OLS</td>       <th>  Adj. R-squared:    </th> <td>  -0.033</td>\n",
       "</tr>\n",
       "<tr>\n",
       "  <th>Method:</th>             <td>Least Squares</td>  <th>  F-statistic:       </th> <td>  0.2074</td>\n",
       "</tr>\n",
       "<tr>\n",
       "  <th>Date:</th>             <td>Mon, 11 Dec 2023</td> <th>  Prob (F-statistic):</th>  <td> 0.653</td> \n",
       "</tr>\n",
       "<tr>\n",
       "  <th>Time:</th>                 <td>09:30:24</td>     <th>  Log-Likelihood:    </th> <td>  77.876</td>\n",
       "</tr>\n",
       "<tr>\n",
       "  <th>No. Observations:</th>      <td>    26</td>      <th>  AIC:               </th> <td>  -151.8</td>\n",
       "</tr>\n",
       "<tr>\n",
       "  <th>Df Residuals:</th>          <td>    24</td>      <th>  BIC:               </th> <td>  -149.2</td>\n",
       "</tr>\n",
       "<tr>\n",
       "  <th>Df Model:</th>              <td>     1</td>      <th>                     </th>     <td> </td>   \n",
       "</tr>\n",
       "<tr>\n",
       "  <th>Covariance Type:</th>      <td>nonrobust</td>    <th>                     </th>     <td> </td>   \n",
       "</tr>\n",
       "</table>\n",
       "<table class=\"simpletable\">\n",
       "<tr>\n",
       "    <td></td>       <th>coef</th>     <th>std err</th>      <th>t</th>      <th>P>|t|</th>  <th>[0.025</th>    <th>0.975]</th>  \n",
       "</tr>\n",
       "<tr>\n",
       "  <th>const</th> <td>    0.7659</td> <td>    0.006</td> <td>  130.382</td> <td> 0.000</td> <td>    0.754</td> <td>    0.778</td>\n",
       "</tr>\n",
       "<tr>\n",
       "  <th>gamma</th> <td>   -0.0003</td> <td>    0.001</td> <td>   -0.455</td> <td> 0.653</td> <td>   -0.002</td> <td>    0.001</td>\n",
       "</tr>\n",
       "</table>\n",
       "<table class=\"simpletable\">\n",
       "<tr>\n",
       "  <th>Omnibus:</th>       <td> 1.969</td> <th>  Durbin-Watson:     </th> <td>   2.009</td>\n",
       "</tr>\n",
       "<tr>\n",
       "  <th>Prob(Omnibus):</th> <td> 0.374</td> <th>  Jarque-Bera (JB):  </th> <td>   1.311</td>\n",
       "</tr>\n",
       "<tr>\n",
       "  <th>Skew:</th>          <td>-0.289</td> <th>  Prob(JB):          </th> <td>   0.519</td>\n",
       "</tr>\n",
       "<tr>\n",
       "  <th>Kurtosis:</th>      <td> 2.065</td> <th>  Cond. No.          </th> <td>    19.0</td>\n",
       "</tr>\n",
       "</table><br/><br/>Notes:<br/>[1] Standard Errors assume that the covariance matrix of the errors is correctly specified."
      ],
      "text/plain": [
       "<class 'statsmodels.iolib.summary.Summary'>\n",
       "\"\"\"\n",
       "                            OLS Regression Results                            \n",
       "==============================================================================\n",
       "Dep. Variable:             % Men in M   R-squared:                       0.009\n",
       "Model:                            OLS   Adj. R-squared:                 -0.033\n",
       "Method:                 Least Squares   F-statistic:                    0.2074\n",
       "Date:                Mon, 11 Dec 2023   Prob (F-statistic):              0.653\n",
       "Time:                        09:30:24   Log-Likelihood:                 77.876\n",
       "No. Observations:                  26   AIC:                            -151.8\n",
       "Df Residuals:                      24   BIC:                            -149.2\n",
       "Df Model:                           1                                         \n",
       "Covariance Type:            nonrobust                                         \n",
       "==============================================================================\n",
       "                 coef    std err          t      P>|t|      [0.025      0.975]\n",
       "------------------------------------------------------------------------------\n",
       "const          0.7659      0.006    130.382      0.000       0.754       0.778\n",
       "gamma         -0.0003      0.001     -0.455      0.653      -0.002       0.001\n",
       "==============================================================================\n",
       "Omnibus:                        1.969   Durbin-Watson:                   2.009\n",
       "Prob(Omnibus):                  0.374   Jarque-Bera (JB):                1.311\n",
       "Skew:                          -0.289   Prob(JB):                        0.519\n",
       "Kurtosis:                       2.065   Cond. No.                         19.0\n",
       "==============================================================================\n",
       "\n",
       "Notes:\n",
       "[1] Standard Errors assume that the covariance matrix of the errors is correctly specified.\n",
       "\"\"\""
      ]
     },
     "execution_count": 74,
     "metadata": {},
     "output_type": "execute_result"
    }
   ],
   "source": [
    "model = sm.OLS(df['% Men in M'], sm.add_constant(df['gamma'])).fit()\n",
    "model.summary()"
   ]
  },
  {
   "cell_type": "code",
   "execution_count": null,
   "id": "1d98673e-1a33-45d2-9c1f-e2fc7dee0405",
   "metadata": {},
   "outputs": [],
   "source": []
  },
  {
   "cell_type": "code",
   "execution_count": null,
   "id": "970b3f45-fcaa-4145-b2ad-839fd91d8ee0",
   "metadata": {},
   "outputs": [],
   "source": []
  }
 ],
 "metadata": {
  "kernelspec": {
   "display_name": "Python 3",
   "language": "python",
   "name": "python3"
  },
  "language_info": {
   "codemirror_mode": {
    "name": "ipython",
    "version": 3
   },
   "file_extension": ".py",
   "mimetype": "text/x-python",
   "name": "python",
   "nbconvert_exporter": "python",
   "pygments_lexer": "ipython3",
   "version": "3.8.8"
  }
 },
 "nbformat": 4,
 "nbformat_minor": 5
}
