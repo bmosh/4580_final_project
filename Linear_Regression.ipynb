{
 "cells": [
  {
   "cell_type": "markdown",
   "id": "3cbca729-552d-46d7-8378-13feb9df0ec4",
   "metadata": {},
   "source": [
    "# Linear Regression Model"
   ]
  },
  {
   "cell_type": "code",
   "execution_count": 318,
   "id": "d3e3c401-c900-4f94-b9b0-58404de1008d",
   "metadata": {},
   "outputs": [],
   "source": [
    "import numpy as np\n",
    "import pandas as pd\n",
    "import matplotlib.pyplot as plt\n",
    "import statsmodels.api as sm\n",
    "import os\n",
    "import math"
   ]
  },
  {
   "cell_type": "markdown",
   "id": "28548a46",
   "metadata": {},
   "source": [
    "# No Bias Data Set"
   ]
  },
  {
   "cell_type": "code",
   "execution_count": 326,
   "id": "a33874f3-58d5-41cd-9ce0-3755f06d8123",
   "metadata": {},
   "outputs": [
    {
     "name": "stdout",
     "output_type": "stream",
     "text": [
      "/Users/saniyavaidya/Documents/4580_final_project/simulation_data/70797_logit_data/70797_logit_rawdata.csv\n"
     ]
    },
    {
     "data": {
      "text/html": [
       "<div>\n",
       "<style scoped>\n",
       "    .dataframe tbody tr th:only-of-type {\n",
       "        vertical-align: middle;\n",
       "    }\n",
       "\n",
       "    .dataframe tbody tr th {\n",
       "        vertical-align: top;\n",
       "    }\n",
       "\n",
       "    .dataframe thead th {\n",
       "        text-align: right;\n",
       "    }\n",
       "</style>\n",
       "<table border=\"1\" class=\"dataframe\">\n",
       "  <thead>\n",
       "    <tr style=\"text-align: right;\">\n",
       "      <th></th>\n",
       "      <th>0</th>\n",
       "      <th>1</th>\n",
       "      <th>2</th>\n",
       "      <th>3</th>\n",
       "      <th>4</th>\n",
       "      <th>5</th>\n",
       "      <th>6</th>\n",
       "    </tr>\n",
       "  </thead>\n",
       "  <tbody>\n",
       "    <tr>\n",
       "      <th>0</th>\n",
       "      <td>0.0</td>\n",
       "      <td>1.0</td>\n",
       "      <td>-2.15</td>\n",
       "      <td>0.576971</td>\n",
       "      <td>0.760879</td>\n",
       "      <td>0.866923</td>\n",
       "      <td>0.828205</td>\n",
       "    </tr>\n",
       "    <tr>\n",
       "      <th>1</th>\n",
       "      <td>0.0</td>\n",
       "      <td>1.0</td>\n",
       "      <td>-2.15</td>\n",
       "      <td>0.588702</td>\n",
       "      <td>0.764396</td>\n",
       "      <td>0.871538</td>\n",
       "      <td>0.930769</td>\n",
       "    </tr>\n",
       "    <tr>\n",
       "      <th>2</th>\n",
       "      <td>0.0</td>\n",
       "      <td>1.0</td>\n",
       "      <td>-2.15</td>\n",
       "      <td>0.586490</td>\n",
       "      <td>0.774286</td>\n",
       "      <td>0.866154</td>\n",
       "      <td>0.907692</td>\n",
       "    </tr>\n",
       "    <tr>\n",
       "      <th>3</th>\n",
       "      <td>0.0</td>\n",
       "      <td>1.0</td>\n",
       "      <td>-2.15</td>\n",
       "      <td>0.566587</td>\n",
       "      <td>0.747473</td>\n",
       "      <td>0.881538</td>\n",
       "      <td>0.951282</td>\n",
       "    </tr>\n",
       "    <tr>\n",
       "      <th>4</th>\n",
       "      <td>0.0</td>\n",
       "      <td>1.0</td>\n",
       "      <td>-2.15</td>\n",
       "      <td>0.574183</td>\n",
       "      <td>0.764835</td>\n",
       "      <td>0.859231</td>\n",
       "      <td>0.964103</td>\n",
       "    </tr>\n",
       "  </tbody>\n",
       "</table>\n",
       "</div>"
      ],
      "text/plain": [
       "     0    1     2         3         4         5         6\n",
       "0  0.0  1.0 -2.15  0.576971  0.760879  0.866923  0.828205\n",
       "1  0.0  1.0 -2.15  0.588702  0.764396  0.871538  0.930769\n",
       "2  0.0  1.0 -2.15  0.586490  0.774286  0.866154  0.907692\n",
       "3  0.0  1.0 -2.15  0.566587  0.747473  0.881538  0.951282\n",
       "4  0.0  1.0 -2.15  0.574183  0.764835  0.859231  0.964103"
      ]
     },
     "execution_count": 326,
     "metadata": {},
     "output_type": "execute_result"
    }
   ],
   "source": [
    "ts = '70797'\n",
    "sim_type = 'logit'\n",
    "\n",
    "path = os.path.join(os.getcwd(), \"simulation_data\")\n",
    "folder_path = os.path.join(path, \"%s_%s_data\" % (ts, sim_type))\n",
    "listing = ts + \"_\" + sim_type + \"_rawdata.csv\"\n",
    "path = os.path.join(folder_path, listing)\n",
    "print(path)\n",
    "\n",
    "df_nb = pd.read_csv(path,header=None).T\n",
    "df_nb.head()"
   ]
  },
  {
   "cell_type": "code",
   "execution_count": 327,
   "id": "aa4fd7cd-5cf4-43d6-b70f-0843594ea2d4",
   "metadata": {},
   "outputs": [
    {
     "data": {
      "text/html": [
       "<div>\n",
       "<style scoped>\n",
       "    .dataframe tbody tr th:only-of-type {\n",
       "        vertical-align: middle;\n",
       "    }\n",
       "\n",
       "    .dataframe tbody tr th {\n",
       "        vertical-align: top;\n",
       "    }\n",
       "\n",
       "    .dataframe thead th {\n",
       "        text-align: right;\n",
       "    }\n",
       "</style>\n",
       "<table border=\"1\" class=\"dataframe\">\n",
       "  <thead>\n",
       "    <tr style=\"text-align: right;\">\n",
       "      <th></th>\n",
       "      <th>alpha</th>\n",
       "      <th>gamma</th>\n",
       "      <th>delta</th>\n",
       "      <th>% Men in J</th>\n",
       "      <th>% Men in M</th>\n",
       "      <th>% Men in S</th>\n",
       "      <th>% Men in E</th>\n",
       "      <th>bias</th>\n",
       "    </tr>\n",
       "  </thead>\n",
       "  <tbody>\n",
       "    <tr>\n",
       "      <th>0</th>\n",
       "      <td>0.0</td>\n",
       "      <td>1.0</td>\n",
       "      <td>-2.15</td>\n",
       "      <td>0.576971</td>\n",
       "      <td>0.760879</td>\n",
       "      <td>0.866923</td>\n",
       "      <td>0.828205</td>\n",
       "      <td>0.5</td>\n",
       "    </tr>\n",
       "    <tr>\n",
       "      <th>1</th>\n",
       "      <td>0.0</td>\n",
       "      <td>1.0</td>\n",
       "      <td>-2.15</td>\n",
       "      <td>0.588702</td>\n",
       "      <td>0.764396</td>\n",
       "      <td>0.871538</td>\n",
       "      <td>0.930769</td>\n",
       "      <td>0.5</td>\n",
       "    </tr>\n",
       "    <tr>\n",
       "      <th>2</th>\n",
       "      <td>0.0</td>\n",
       "      <td>1.0</td>\n",
       "      <td>-2.15</td>\n",
       "      <td>0.586490</td>\n",
       "      <td>0.774286</td>\n",
       "      <td>0.866154</td>\n",
       "      <td>0.907692</td>\n",
       "      <td>0.5</td>\n",
       "    </tr>\n",
       "    <tr>\n",
       "      <th>3</th>\n",
       "      <td>0.0</td>\n",
       "      <td>1.0</td>\n",
       "      <td>-2.15</td>\n",
       "      <td>0.566587</td>\n",
       "      <td>0.747473</td>\n",
       "      <td>0.881538</td>\n",
       "      <td>0.951282</td>\n",
       "      <td>0.5</td>\n",
       "    </tr>\n",
       "    <tr>\n",
       "      <th>4</th>\n",
       "      <td>0.0</td>\n",
       "      <td>1.0</td>\n",
       "      <td>-2.15</td>\n",
       "      <td>0.574183</td>\n",
       "      <td>0.764835</td>\n",
       "      <td>0.859231</td>\n",
       "      <td>0.964103</td>\n",
       "      <td>0.5</td>\n",
       "    </tr>\n",
       "  </tbody>\n",
       "</table>\n",
       "</div>"
      ],
      "text/plain": [
       "   alpha  gamma  delta  % Men in J  % Men in M  % Men in S  % Men in E  bias\n",
       "0    0.0    1.0  -2.15    0.576971    0.760879    0.866923    0.828205   0.5\n",
       "1    0.0    1.0  -2.15    0.588702    0.764396    0.871538    0.930769   0.5\n",
       "2    0.0    1.0  -2.15    0.586490    0.774286    0.866154    0.907692   0.5\n",
       "3    0.0    1.0  -2.15    0.566587    0.747473    0.881538    0.951282   0.5\n",
       "4    0.0    1.0  -2.15    0.574183    0.764835    0.859231    0.964103   0.5"
      ]
     },
     "execution_count": 327,
     "metadata": {},
     "output_type": "execute_result"
    }
   ],
   "source": [
    "df_nb = df_nb.rename(columns={0: \"alpha\", 1: \"gamma\", 2: \"delta\", 3: \"% Men in J\", 4: \"% Men in M\", 5: \"% Men in S\" , 6: \"% Men in E\"})\n",
    "df_nb['bias'] = (math.e**df_nb['alpha']) / (1+math.e**df_nb['alpha'])\n",
    "df_nb.head()"
   ]
  },
  {
   "cell_type": "code",
   "execution_count": 328,
   "id": "9a0715e8",
   "metadata": {},
   "outputs": [],
   "source": [
    "mean_nb = df_nb.mean()\n",
    "std_nb = df_nb.std()\n",
    "hw_nb = 1.96*std_nb/math.sqrt(len(df_nb))"
   ]
  },
  {
   "cell_type": "markdown",
   "id": "02b316fe",
   "metadata": {},
   "source": [
    "# Biased Dataset"
   ]
  },
  {
   "cell_type": "code",
   "execution_count": 344,
   "id": "5e3c6dae",
   "metadata": {},
   "outputs": [
    {
     "name": "stdout",
     "output_type": "stream",
     "text": [
      "/Users/saniyavaidya/Documents/4580_final_project/simulation_data/1196_logit_data/1196_logit_rawdata.csv\n",
      "/Users/saniyavaidya/Documents/4580_final_project/simulation_data/02975_logit_data/02975_logit_rawdata.csv\n"
     ]
    },
    {
     "data": {
      "text/html": [
       "<div>\n",
       "<style scoped>\n",
       "    .dataframe tbody tr th:only-of-type {\n",
       "        vertical-align: middle;\n",
       "    }\n",
       "\n",
       "    .dataframe tbody tr th {\n",
       "        vertical-align: top;\n",
       "    }\n",
       "\n",
       "    .dataframe thead th {\n",
       "        text-align: right;\n",
       "    }\n",
       "</style>\n",
       "<table border=\"1\" class=\"dataframe\">\n",
       "  <thead>\n",
       "    <tr style=\"text-align: right;\">\n",
       "      <th></th>\n",
       "      <th>0</th>\n",
       "      <th>1</th>\n",
       "      <th>2</th>\n",
       "      <th>3</th>\n",
       "      <th>4</th>\n",
       "      <th>5</th>\n",
       "      <th>6</th>\n",
       "    </tr>\n",
       "  </thead>\n",
       "  <tbody>\n",
       "    <tr>\n",
       "      <th>0</th>\n",
       "      <td>10.0</td>\n",
       "      <td>1.0</td>\n",
       "      <td>-2.15</td>\n",
       "      <td>0.581587</td>\n",
       "      <td>0.746813</td>\n",
       "      <td>0.880769</td>\n",
       "      <td>0.974359</td>\n",
       "    </tr>\n",
       "    <tr>\n",
       "      <th>1</th>\n",
       "      <td>10.0</td>\n",
       "      <td>1.0</td>\n",
       "      <td>-2.15</td>\n",
       "      <td>0.583894</td>\n",
       "      <td>0.776044</td>\n",
       "      <td>0.916923</td>\n",
       "      <td>0.974359</td>\n",
       "    </tr>\n",
       "    <tr>\n",
       "      <th>2</th>\n",
       "      <td>10.0</td>\n",
       "      <td>1.0</td>\n",
       "      <td>-2.15</td>\n",
       "      <td>0.589471</td>\n",
       "      <td>0.788571</td>\n",
       "      <td>0.890000</td>\n",
       "      <td>1.000000</td>\n",
       "    </tr>\n",
       "    <tr>\n",
       "      <th>3</th>\n",
       "      <td>10.0</td>\n",
       "      <td>1.0</td>\n",
       "      <td>-2.15</td>\n",
       "      <td>0.584471</td>\n",
       "      <td>0.718022</td>\n",
       "      <td>0.849231</td>\n",
       "      <td>0.971795</td>\n",
       "    </tr>\n",
       "    <tr>\n",
       "      <th>4</th>\n",
       "      <td>10.0</td>\n",
       "      <td>1.0</td>\n",
       "      <td>-2.15</td>\n",
       "      <td>0.570577</td>\n",
       "      <td>0.740659</td>\n",
       "      <td>0.933846</td>\n",
       "      <td>1.000000</td>\n",
       "    </tr>\n",
       "  </tbody>\n",
       "</table>\n",
       "</div>"
      ],
      "text/plain": [
       "      0    1     2         3         4         5         6\n",
       "0  10.0  1.0 -2.15  0.581587  0.746813  0.880769  0.974359\n",
       "1  10.0  1.0 -2.15  0.583894  0.776044  0.916923  0.974359\n",
       "2  10.0  1.0 -2.15  0.589471  0.788571  0.890000  1.000000\n",
       "3  10.0  1.0 -2.15  0.584471  0.718022  0.849231  0.971795\n",
       "4  10.0  1.0 -2.15  0.570577  0.740659  0.933846  1.000000"
      ]
     },
     "execution_count": 344,
     "metadata": {},
     "output_type": "execute_result"
    }
   ],
   "source": [
    "ts = '1196'\n",
    "sim_type = 'logit'\n",
    "\n",
    "path = os.path.join(os.getcwd(), \"simulation_data\")\n",
    "folder_path = os.path.join(path, \"%s_%s_data\" % (ts, sim_type))\n",
    "listing = ts + \"_\" + sim_type + \"_rawdata.csv\"\n",
    "path = os.path.join(folder_path, listing)\n",
    "print(path)\n",
    "\n",
    "df_b = pd.read_csv(path,header=None).T\n",
    "df_b.head()\n",
    "\n",
    "ts = '02975'\n",
    "sim_type = 'logit'\n",
    "\n",
    "path = os.path.join(os.getcwd(), \"simulation_data\")\n",
    "folder_path = os.path.join(path, \"%s_%s_data\" % (ts, sim_type))\n",
    "listing = ts + \"_\" + sim_type + \"_rawdata.csv\"\n",
    "path = os.path.join(folder_path, listing)\n",
    "print(path)\n",
    "\n",
    "df_bb = pd.read_csv(path,header=None).T\n",
    "df_bb.head()"
   ]
  },
  {
   "cell_type": "code",
   "execution_count": 345,
   "id": "d2c1998b",
   "metadata": {},
   "outputs": [
    {
     "data": {
      "text/html": [
       "<div>\n",
       "<style scoped>\n",
       "    .dataframe tbody tr th:only-of-type {\n",
       "        vertical-align: middle;\n",
       "    }\n",
       "\n",
       "    .dataframe tbody tr th {\n",
       "        vertical-align: top;\n",
       "    }\n",
       "\n",
       "    .dataframe thead th {\n",
       "        text-align: right;\n",
       "    }\n",
       "</style>\n",
       "<table border=\"1\" class=\"dataframe\">\n",
       "  <thead>\n",
       "    <tr style=\"text-align: right;\">\n",
       "      <th></th>\n",
       "      <th>alpha</th>\n",
       "      <th>gamma</th>\n",
       "      <th>delta</th>\n",
       "      <th>% Men in J</th>\n",
       "      <th>% Men in M</th>\n",
       "      <th>% Men in S</th>\n",
       "      <th>% Men in E</th>\n",
       "      <th>bias</th>\n",
       "    </tr>\n",
       "  </thead>\n",
       "  <tbody>\n",
       "    <tr>\n",
       "      <th>0</th>\n",
       "      <td>10.0</td>\n",
       "      <td>1.0</td>\n",
       "      <td>-2.15</td>\n",
       "      <td>0.581587</td>\n",
       "      <td>0.746813</td>\n",
       "      <td>0.880769</td>\n",
       "      <td>0.974359</td>\n",
       "      <td>0.999955</td>\n",
       "    </tr>\n",
       "    <tr>\n",
       "      <th>1</th>\n",
       "      <td>10.0</td>\n",
       "      <td>1.0</td>\n",
       "      <td>-2.15</td>\n",
       "      <td>0.583894</td>\n",
       "      <td>0.776044</td>\n",
       "      <td>0.916923</td>\n",
       "      <td>0.974359</td>\n",
       "      <td>0.999955</td>\n",
       "    </tr>\n",
       "    <tr>\n",
       "      <th>2</th>\n",
       "      <td>10.0</td>\n",
       "      <td>1.0</td>\n",
       "      <td>-2.15</td>\n",
       "      <td>0.589471</td>\n",
       "      <td>0.788571</td>\n",
       "      <td>0.890000</td>\n",
       "      <td>1.000000</td>\n",
       "      <td>0.999955</td>\n",
       "    </tr>\n",
       "    <tr>\n",
       "      <th>3</th>\n",
       "      <td>10.0</td>\n",
       "      <td>1.0</td>\n",
       "      <td>-2.15</td>\n",
       "      <td>0.584471</td>\n",
       "      <td>0.718022</td>\n",
       "      <td>0.849231</td>\n",
       "      <td>0.971795</td>\n",
       "      <td>0.999955</td>\n",
       "    </tr>\n",
       "    <tr>\n",
       "      <th>4</th>\n",
       "      <td>10.0</td>\n",
       "      <td>1.0</td>\n",
       "      <td>-2.15</td>\n",
       "      <td>0.570577</td>\n",
       "      <td>0.740659</td>\n",
       "      <td>0.933846</td>\n",
       "      <td>1.000000</td>\n",
       "      <td>0.999955</td>\n",
       "    </tr>\n",
       "  </tbody>\n",
       "</table>\n",
       "</div>"
      ],
      "text/plain": [
       "   alpha  gamma  delta  % Men in J  % Men in M  % Men in S  % Men in E  \\\n",
       "0   10.0    1.0  -2.15    0.581587    0.746813    0.880769    0.974359   \n",
       "1   10.0    1.0  -2.15    0.583894    0.776044    0.916923    0.974359   \n",
       "2   10.0    1.0  -2.15    0.589471    0.788571    0.890000    1.000000   \n",
       "3   10.0    1.0  -2.15    0.584471    0.718022    0.849231    0.971795   \n",
       "4   10.0    1.0  -2.15    0.570577    0.740659    0.933846    1.000000   \n",
       "\n",
       "       bias  \n",
       "0  0.999955  \n",
       "1  0.999955  \n",
       "2  0.999955  \n",
       "3  0.999955  \n",
       "4  0.999955  "
      ]
     },
     "execution_count": 345,
     "metadata": {},
     "output_type": "execute_result"
    }
   ],
   "source": [
    "df_b = df_b.rename(columns={0: \"alpha\", 1: \"gamma\", 2: \"delta\", 3: \"% Men in J\", 4: \"% Men in M\", 5: \"% Men in S\" , 6: \"% Men in E\"})\n",
    "df_b['bias'] = (math.e**df_b['alpha']) / (1+math.e**df_b['alpha'])\n",
    "df_b.head()\n",
    "\n",
    "df_bb = df_bb.rename(columns={0: \"alpha\", 1: \"gamma\", 2: \"delta\", 3: \"% Men in J\", 4: \"% Men in M\", 5: \"% Men in S\" , 6: \"% Men in E\"})\n",
    "df_bb['bias'] = (math.e**df_bb['alpha']) / (1+math.e**df_bb['alpha'])\n",
    "df_bb.head()"
   ]
  },
  {
   "cell_type": "code",
   "execution_count": 346,
   "id": "2d19181c",
   "metadata": {},
   "outputs": [],
   "source": [
    "mean_b = df_b.mean()\n",
    "std_b = df_b.std()\n",
    "hw_b = 1.96*std_b/math.sqrt(len(df_b))\n",
    "\n",
    "mean_bb = df_bb.mean()\n",
    "std_bb = df_bb.std()\n",
    "hw_bb = 1.96*std_bb/math.sqrt(len(df_bb))"
   ]
  },
  {
   "cell_type": "markdown",
   "id": "f628dc15",
   "metadata": {},
   "source": [
    "# Bias vs. No Bias Comparison"
   ]
  },
  {
   "cell_type": "code",
   "execution_count": 373,
   "id": "b6868820",
   "metadata": {},
   "outputs": [
    {
     "data": {
      "text/plain": [
       "([<matplotlib.axis.XTick at 0x7fa961081eb0>,\n",
       "  <matplotlib.axis.XTick at 0x7fa961081e80>,\n",
       "  <matplotlib.axis.XTick at 0x7fa961073a30>,\n",
       "  <matplotlib.axis.XTick at 0x7fa9828e4850>],\n",
       " [Text(1, 0, 'J'), Text(2, 0, 'M'), Text(3, 0, 'S'), Text(4, 0, 'E')])"
      ]
     },
     "execution_count": 373,
     "metadata": {},
     "output_type": "execute_result"
    },
    {
     "data": {
      "image/png": "[encoded data removed]",
      "text/plain": [
       "<Figure size 432x288 with 1 Axes>"
      ]
     },
     "metadata": {
      "needs_background": "light"
     },
     "output_type": "display_data"
    }
   ],
   "source": [
    "x = [1,2,3,4]\n",
    "plt.errorbar(x=x, y=mean_nb[3:7], yerr=hw_nb[3:7], label='No bias',)\n",
    "plt.errorbar(x=x, y=mean_b[3:7], yerr=hw_b[3:7], label='Bias')\n",
    "plt.errorbar(x=x, y=mean_bb[3:7], yerr=hw_b[3:7], label='Bias more')\n",
    "plt.legend()\n",
    "xticks=['J','M','S','E']\n",
    "plt.title('Effect of Bias on Proportion of Men')\n",
    "plt.xticks(x,xticks)"
   ]
  },
  {
   "cell_type": "markdown",
   "id": "84e2656c",
   "metadata": {},
   "source": [
    "# Effect of $\\gamma$"
   ]
  },
  {
   "cell_type": "code",
   "execution_count": 349,
   "id": "1b54ce42",
   "metadata": {},
   "outputs": [
    {
     "name": "stdout",
     "output_type": "stream",
     "text": [
      "/Users/saniyavaidya/Documents/4580_final_project/simulation_data/3032_logit_data/3032_logit_rawdata.csv\n",
      "     0     1     2         3         4         5         6\n",
      "0  0.0  10.0 -2.15  0.579087  0.760659  0.875385  0.966667\n",
      "1  0.0  10.0 -2.15  0.577548  0.764176  0.804615  0.807692\n",
      "2  0.0  10.0 -2.15  0.598462  0.779341  0.862308  0.943590\n",
      "3  0.0  10.0 -2.15  0.586058  0.755165  0.860000  0.917949\n",
      "4  0.0  10.0 -2.15  0.572115  0.734066  0.896923  0.933333\n",
      "/Users/saniyavaidya/Documents/4580_final_project/simulation_data/2980_logit_data/2980_logit_rawdata.csv\n",
      "     0     1     2         3         4         5         6\n",
      "0  0.0  30.0 -2.15  0.574231  0.770989  0.880000  0.958974\n",
      "1  0.0  30.0 -2.15  0.591538  0.769670  0.860769  0.900000\n",
      "2  0.0  30.0 -2.15  0.573558  0.751429  0.893846  0.938462\n",
      "3  0.0  30.0 -2.15  0.588846  0.792747  0.875385  0.928205\n",
      "4  0.0  30.0 -2.15  0.592500  0.775165  0.864615  0.969231\n"
     ]
    }
   ],
   "source": [
    "ts = '3032'\n",
    "sim_type = 'logit'\n",
    "\n",
    "path = os.path.join(os.getcwd(), \"simulation_data\")\n",
    "folder_path = os.path.join(path, \"%s_%s_data\" % (ts, sim_type))\n",
    "listing = ts + \"_\" + sim_type + \"_rawdata.csv\"\n",
    "path = os.path.join(folder_path, listing)\n",
    "print(path)\n",
    "\n",
    "df_hg1 = pd.read_csv(path,header=None).T\n",
    "print(df_hg1.head())\n",
    "\n",
    "ts = '2980' \n",
    "sim_type = 'logit'\n",
    "\n",
    "path = os.path.join(os.getcwd(), \"simulation_data\")\n",
    "folder_path = os.path.join(path, \"%s_%s_data\" % (ts, sim_type))\n",
    "listing = ts + \"_\" + sim_type + \"_rawdata.csv\"\n",
    "path = os.path.join(folder_path, listing)\n",
    "print(path)\n",
    "\n",
    "df_hg2 = pd.read_csv(path,header=None).T\n",
    "print(df_hg2.head())"
   ]
  },
  {
   "cell_type": "code",
   "execution_count": 350,
   "id": "11a19e84",
   "metadata": {},
   "outputs": [
    {
     "name": "stdout",
     "output_type": "stream",
     "text": [
      "   alpha  gamma  delta  % Men in J  % Men in M  % Men in S  % Men in E  bias\n",
      "0    0.0   10.0  -2.15    0.579087    0.760659    0.875385    0.966667   0.5\n",
      "1    0.0   10.0  -2.15    0.577548    0.764176    0.804615    0.807692   0.5\n",
      "2    0.0   10.0  -2.15    0.598462    0.779341    0.862308    0.943590   0.5\n",
      "3    0.0   10.0  -2.15    0.586058    0.755165    0.860000    0.917949   0.5\n",
      "4    0.0   10.0  -2.15    0.572115    0.734066    0.896923    0.933333   0.5\n",
      "   alpha  gamma  delta  % Men in J  % Men in M  % Men in S  % Men in E  bias\n",
      "0    0.0   30.0  -2.15    0.574231    0.770989    0.880000    0.958974   0.5\n",
      "1    0.0   30.0  -2.15    0.591538    0.769670    0.860769    0.900000   0.5\n",
      "2    0.0   30.0  -2.15    0.573558    0.751429    0.893846    0.938462   0.5\n",
      "3    0.0   30.0  -2.15    0.588846    0.792747    0.875385    0.928205   0.5\n",
      "4    0.0   30.0  -2.15    0.592500    0.775165    0.864615    0.969231   0.5\n"
     ]
    }
   ],
   "source": [
    "df_hg1 = df_hg1.rename(columns={0: \"alpha\", 1: \"gamma\", 2: \"delta\", 3: \"% Men in J\", 4: \"% Men in M\", 5: \"% Men in S\" , 6: \"% Men in E\"})\n",
    "df_hg1['bias'] = (math.e**df_hg1['alpha']) / (1+math.e**df_hg1['alpha'])\n",
    "print(df_hg1.head())\n",
    "\n",
    "df_hg2 = df_hg2.rename(columns={0: \"alpha\", 1: \"gamma\", 2: \"delta\", 3: \"% Men in J\", 4: \"% Men in M\", 5: \"% Men in S\" , 6: \"% Men in E\"})\n",
    "df_hg2['bias'] = (math.e**df_hg2['alpha']) / (1+math.e**df_hg2['alpha'])\n",
    "print(df_hg2.head())"
   ]
  },
  {
   "cell_type": "code",
   "execution_count": 351,
   "id": "ee61e3dd",
   "metadata": {},
   "outputs": [],
   "source": [
    "mean_hg1 = df_hg1.mean()\n",
    "std_hg1 = df_hg1.std()\n",
    "hw_hg1 = 1.96*std_hg1/math.sqrt(len(df_hg1))\n",
    "\n",
    "mean_hg2 = df_hg2.mean()\n",
    "std_hg2 = df_hg2.std()\n",
    "hw_hg2 = 1.96*std_hg2/math.sqrt(len(df_hg2))"
   ]
  },
  {
   "cell_type": "code",
   "execution_count": 353,
   "id": "da9f0cd8",
   "metadata": {},
   "outputs": [
    {
     "data": {
      "text/plain": [
       "([<matplotlib.axis.XTick at 0x7fa9b065e430>,\n",
       "  <matplotlib.axis.XTick at 0x7fa9b065e280>,\n",
       "  <matplotlib.axis.XTick at 0x7fa9a57dc3d0>,\n",
       "  <matplotlib.axis.XTick at 0x7fa9b0e5a370>],\n",
       " [Text(1, 0, 'J'), Text(2, 0, 'M'), Text(3, 0, 'S'), Text(4, 0, 'E')])"
      ]
     },
     "execution_count": 353,
     "metadata": {},
     "output_type": "execute_result"
    },
    {
     "data": {
      "image/png": "[encoded data removed]",
      "text/plain": [
       "<Figure size 432x288 with 1 Axes>"
      ]
     },
     "metadata": {
      "needs_background": "light"
     },
     "output_type": "display_data"
    }
   ],
   "source": [
    "x = [1,2,3,4]\n",
    "plt.errorbar(x=x, y=mean_nb[3:7], yerr=hw_nb[2:6], label='$\\gamma$=1')\n",
    "plt.errorbar(x=x, y=mean_hg1[3:7], yerr=hw_hg1[2:6], label='$\\gamma$=10')\n",
    "plt.errorbar(x=x, y=mean_hg2[3:7], yerr=hw_hg2[2:6], label='$\\gamma$=30')\n",
    "plt.legend()\n",
    "xticks=['J','M','S','E']\n",
    "plt.title('Effect of Emphasis on Seniority on Proportion of Men')\n",
    "plt.xticks(x,xticks)"
   ]
  },
  {
   "cell_type": "markdown",
   "id": "e6dc8717",
   "metadata": {},
   "source": [
    "# Effect of Shorter Stay Times for Women"
   ]
  },
  {
   "cell_type": "code",
   "execution_count": 388,
   "id": "4a906f4d",
   "metadata": {},
   "outputs": [
    {
     "name": "stdout",
     "output_type": "stream",
     "text": [
      "/Users/saniyavaidya/Documents/4580_final_project/simulation_data/020_logit_data/020_logit_rawdata.csv\n",
      "     0    1     2         3         4         5         6\n",
      "0  0.0  1.0 -2.15  0.492452  0.499341  0.473846  0.497436\n",
      "1  0.0  1.0 -2.15  0.498077  0.467253  0.500769  0.592308\n",
      "2  0.0  1.0 -2.15  0.484038  0.474286  0.476923  0.620513\n",
      "3  0.0  1.0 -2.15  0.505337  0.502418  0.478462  0.464103\n",
      "4  0.0  1.0 -2.15  0.493029  0.491868  0.493846  0.612821\n"
     ]
    }
   ],
   "source": [
    "ts = '020'\n",
    "sim_type = 'logit'\n",
    "\n",
    "path = os.path.join(os.getcwd(), \"simulation_data\")\n",
    "folder_path = os.path.join(path, \"%s_%s_data\" % (ts, sim_type))\n",
    "listing = ts + \"_\" + sim_type + \"_rawdata.csv\"\n",
    "path = os.path.join(folder_path, listing)\n",
    "print(path)\n",
    "\n",
    "df_est = pd.read_csv(path,header=None).T\n",
    "print(df_est.head())"
   ]
  },
  {
   "cell_type": "code",
   "execution_count": 389,
   "id": "db7b3d06",
   "metadata": {},
   "outputs": [
    {
     "data": {
      "text/html": [
       "<div>\n",
       "<style scoped>\n",
       "    .dataframe tbody tr th:only-of-type {\n",
       "        vertical-align: middle;\n",
       "    }\n",
       "\n",
       "    .dataframe tbody tr th {\n",
       "        vertical-align: top;\n",
       "    }\n",
       "\n",
       "    .dataframe thead th {\n",
       "        text-align: right;\n",
       "    }\n",
       "</style>\n",
       "<table border=\"1\" class=\"dataframe\">\n",
       "  <thead>\n",
       "    <tr style=\"text-align: right;\">\n",
       "      <th></th>\n",
       "      <th>alpha</th>\n",
       "      <th>gamma</th>\n",
       "      <th>delta</th>\n",
       "      <th>% Men in J</th>\n",
       "      <th>% Men in M</th>\n",
       "      <th>% Men in S</th>\n",
       "      <th>% Men in E</th>\n",
       "      <th>bias</th>\n",
       "    </tr>\n",
       "  </thead>\n",
       "  <tbody>\n",
       "    <tr>\n",
       "      <th>0</th>\n",
       "      <td>0.0</td>\n",
       "      <td>1.0</td>\n",
       "      <td>-2.15</td>\n",
       "      <td>0.492452</td>\n",
       "      <td>0.499341</td>\n",
       "      <td>0.473846</td>\n",
       "      <td>0.497436</td>\n",
       "      <td>0.5</td>\n",
       "    </tr>\n",
       "    <tr>\n",
       "      <th>1</th>\n",
       "      <td>0.0</td>\n",
       "      <td>1.0</td>\n",
       "      <td>-2.15</td>\n",
       "      <td>0.498077</td>\n",
       "      <td>0.467253</td>\n",
       "      <td>0.500769</td>\n",
       "      <td>0.592308</td>\n",
       "      <td>0.5</td>\n",
       "    </tr>\n",
       "    <tr>\n",
       "      <th>2</th>\n",
       "      <td>0.0</td>\n",
       "      <td>1.0</td>\n",
       "      <td>-2.15</td>\n",
       "      <td>0.484038</td>\n",
       "      <td>0.474286</td>\n",
       "      <td>0.476923</td>\n",
       "      <td>0.620513</td>\n",
       "      <td>0.5</td>\n",
       "    </tr>\n",
       "    <tr>\n",
       "      <th>3</th>\n",
       "      <td>0.0</td>\n",
       "      <td>1.0</td>\n",
       "      <td>-2.15</td>\n",
       "      <td>0.505337</td>\n",
       "      <td>0.502418</td>\n",
       "      <td>0.478462</td>\n",
       "      <td>0.464103</td>\n",
       "      <td>0.5</td>\n",
       "    </tr>\n",
       "    <tr>\n",
       "      <th>4</th>\n",
       "      <td>0.0</td>\n",
       "      <td>1.0</td>\n",
       "      <td>-2.15</td>\n",
       "      <td>0.493029</td>\n",
       "      <td>0.491868</td>\n",
       "      <td>0.493846</td>\n",
       "      <td>0.612821</td>\n",
       "      <td>0.5</td>\n",
       "    </tr>\n",
       "  </tbody>\n",
       "</table>\n",
       "</div>"
      ],
      "text/plain": [
       "   alpha  gamma  delta  % Men in J  % Men in M  % Men in S  % Men in E  bias\n",
       "0    0.0    1.0  -2.15    0.492452    0.499341    0.473846    0.497436   0.5\n",
       "1    0.0    1.0  -2.15    0.498077    0.467253    0.500769    0.592308   0.5\n",
       "2    0.0    1.0  -2.15    0.484038    0.474286    0.476923    0.620513   0.5\n",
       "3    0.0    1.0  -2.15    0.505337    0.502418    0.478462    0.464103   0.5\n",
       "4    0.0    1.0  -2.15    0.493029    0.491868    0.493846    0.612821   0.5"
      ]
     },
     "execution_count": 389,
     "metadata": {},
     "output_type": "execute_result"
    }
   ],
   "source": [
    "df_est = df_est.rename(columns={0: \"alpha\", 1: \"gamma\", 2: \"delta\", 3: \"% Men in J\", 4: \"% Men in M\", 5: \"% Men in S\" , 6: \"% Men in E\"})\n",
    "df_est['bias'] = (math.e**df_est['alpha']) / (1+math.e**df_est['alpha'])\n",
    "df_est.head()"
   ]
  },
  {
   "cell_type": "code",
   "execution_count": 390,
   "id": "4c450767",
   "metadata": {},
   "outputs": [],
   "source": [
    "mean_est = df_est.mean()\n",
    "std_est = df_est.std()\n",
    "hw_est = 1.96*std_est/math.sqrt(len(df_est))"
   ]
  },
  {
   "cell_type": "code",
   "execution_count": 391,
   "id": "e10c1fc8",
   "metadata": {},
   "outputs": [
    {
     "data": {
      "text/plain": [
       "([<matplotlib.axis.XTick at 0x7fa9884b4760>,\n",
       "  <matplotlib.axis.XTick at 0x7fa9884b4730>,\n",
       "  <matplotlib.axis.XTick at 0x7fa9884b3370>,\n",
       "  <matplotlib.axis.XTick at 0x7fa988666610>],\n",
       " [Text(1, 0, 'J'), Text(2, 0, 'M'), Text(3, 0, 'S'), Text(4, 0, 'E')])"
      ]
     },
     "execution_count": 391,
     "metadata": {},
     "output_type": "execute_result"
    },
    {
     "data": {
      "image/png": "[encoded data removed]",
      "text/plain": [
       "<Figure size 432x288 with 1 Axes>"
      ]
     },
     "metadata": {
      "needs_background": "light"
     },
     "output_type": "display_data"
    }
   ],
   "source": [
    "x = [1,2,3,4]\n",
    "plt.errorbar(x=x, y=mean_nb[3:7], yerr=hw_nb[3:7], label='Short stay time for women')\n",
    "plt.errorbar(x=x, y=mean_est[3:7], yerr=hw_est[3:7], label='Equal stay times')\n",
    "plt.legend()\n",
    "xticks=['J','M','S','E']\n",
    "plt.title('Effect of Emphasis on Short Female Stay Times on Proportion of Men')\n",
    "plt.xticks(x,xticks)"
   ]
  },
  {
   "cell_type": "code",
   "execution_count": 392,
   "id": "3a144dc2",
   "metadata": {},
   "outputs": [
    {
     "data": {
      "text/plain": [
       "(array([2., 2., 3., 4., 8., 8., 3., 6., 2., 2.]),\n",
       " array([0.35128205, 0.38384615, 0.41641026, 0.44897436, 0.48153846,\n",
       "        0.51410256, 0.54666667, 0.57923077, 0.61179487, 0.64435897,\n",
       "        0.67692308]),\n",
       " <BarContainer object of 10 artists>)"
      ]
     },
     "execution_count": 392,
     "metadata": {},
     "output_type": "execute_result"
    },
    {
     "data": {
      "image/png": "[encoded data removed]",
      "text/plain": [
       "<Figure size 432x288 with 1 Axes>"
      ]
     },
     "metadata": {
      "needs_background": "light"
     },
     "output_type": "display_data"
    }
   ],
   "source": [
    "plt.hist(df_est['% Men in E'])"
   ]
  },
  {
   "cell_type": "markdown",
   "id": "da186f9f",
   "metadata": {},
   "source": [
    "# Maternal Leave Analysis"
   ]
  },
  {
   "cell_type": "code",
   "execution_count": 393,
   "id": "970b3f45-fcaa-4145-b2ad-839fd91d8ee0",
   "metadata": {},
   "outputs": [
    {
     "name": "stdout",
     "output_type": "stream",
     "text": [
      "/Users/saniyavaidya/Documents/4580_final_project/simulation_data/105_logit_data/105_logit_rawdata.csv\n",
      "       0    1     2         3         4         5         6\n",
      "0  0.281  1.0 -2.15  0.573221  0.757363  0.863846  0.887179\n",
      "1  0.281  1.0 -2.15  0.579567  0.754505  0.864615  0.946154\n",
      "2  0.281  1.0 -2.15  0.584904  0.751868  0.830000  0.864103\n",
      "3  0.281  1.0 -2.15  0.585433  0.789231  0.877692  0.925641\n",
      "4  0.281  1.0 -2.15  0.570769  0.758901  0.842308  0.835897\n",
      "/Users/saniyavaidya/Documents/4580_final_project/simulation_data/9385_logit_data/9385_logit_rawdata.csv\n",
      "       0    1     2         3         4         5         6\n",
      "0  0.281  1.0 -2.15  0.573221  0.757363  0.863846  0.887179\n",
      "1  0.281  1.0 -2.15  0.579567  0.754505  0.864615  0.946154\n",
      "2  0.281  1.0 -2.15  0.584904  0.751868  0.830000  0.864103\n",
      "3  0.281  1.0 -2.15  0.585433  0.789231  0.877692  0.925641\n",
      "4  0.281  1.0 -2.15  0.570769  0.758901  0.842308  0.835897\n"
     ]
    }
   ],
   "source": [
    "# No leave dataset\n",
    "ts = '105'\n",
    "sim_type = 'logit'\n",
    "\n",
    "path = os.path.join(os.getcwd(), \"simulation_data\")\n",
    "folder_path = os.path.join(path, \"%s_%s_data\" % (ts, sim_type))\n",
    "listing = ts + \"_\" + sim_type + \"_rawdata.csv\"\n",
    "path = os.path.join(folder_path, listing)\n",
    "print(path)\n",
    "\n",
    "df_nml = pd.read_csv(path,header=None).T\n",
    "print(df_nml.head())\n",
    "\n",
    "# With leave dataset\n",
    "ts = '9385'\n",
    "sim_type = 'logit'\n",
    "\n",
    "path = os.path.join(os.getcwd(), \"simulation_data\")\n",
    "folder_path = os.path.join(path, \"%s_%s_data\" % (ts, sim_type))\n",
    "listing = ts + \"_\" + sim_type + \"_rawdata.csv\"\n",
    "path = os.path.join(folder_path, listing)\n",
    "print(path)\n",
    "\n",
    "df_ml = pd.read_csv(path,header=None).T\n",
    "print(df_nml.head())"
   ]
  },
  {
   "cell_type": "code",
   "execution_count": 394,
   "id": "493d3a40",
   "metadata": {},
   "outputs": [
    {
     "name": "stdout",
     "output_type": "stream",
     "text": [
      "   alpha  gamma  delta  % Men in J  % Men in M  % Men in S  % Men in E  \\\n",
      "0    0.0   10.0  -2.15    0.579087    0.760659    0.875385    0.966667   \n",
      "1    0.0   10.0  -2.15    0.577548    0.764176    0.804615    0.807692   \n",
      "2    0.0   10.0  -2.15    0.598462    0.779341    0.862308    0.943590   \n",
      "3    0.0   10.0  -2.15    0.586058    0.755165    0.860000    0.917949   \n",
      "4    0.0   10.0  -2.15    0.572115    0.734066    0.896923    0.933333   \n",
      "\n",
      "       bias  \n",
      "0  0.662227  \n",
      "1  0.662227  \n",
      "2  0.662227  \n",
      "3  0.662227  \n",
      "4  0.662227  \n",
      "   alpha  gamma  delta  % Men in J  % Men in M  % Men in S  % Men in E  bias\n",
      "0    0.0   30.0  -2.15    0.574231    0.770989    0.880000    0.958974   0.5\n",
      "1    0.0   30.0  -2.15    0.591538    0.769670    0.860769    0.900000   0.5\n",
      "2    0.0   30.0  -2.15    0.573558    0.751429    0.893846    0.938462   0.5\n",
      "3    0.0   30.0  -2.15    0.588846    0.792747    0.875385    0.928205   0.5\n",
      "4    0.0   30.0  -2.15    0.592500    0.775165    0.864615    0.969231   0.5\n"
     ]
    }
   ],
   "source": [
    "df_nml = df_nml.rename(columns={0: \"alpha\", 1: \"gamma\", 2: \"delta\", 3: \"% Men in J\", 4: \"% Men in M\", 5: \"% Men in S\" , 6: \"% Men in E\"})\n",
    "df_nml['bias'] = (math.e**df_nml['alpha']) / (1+math.e**df_hg1['alpha'])\n",
    "print(df_hg1.head())\n",
    "\n",
    "df_ml = df_ml.rename(columns={0: \"alpha\", 1: \"gamma\", 2: \"delta\", 3: \"% Men in J\", 4: \"% Men in M\", 5: \"% Men in S\" , 6: \"% Men in E\"})\n",
    "df_ml['bias'] = (math.e**df_ml['alpha']) / (1+math.e**df_hg2['alpha'])\n",
    "print(df_hg2.head())"
   ]
  },
  {
   "cell_type": "code",
   "execution_count": 395,
   "id": "a2ced298",
   "metadata": {},
   "outputs": [],
   "source": [
    "mean_nml = df_nml.mean()\n",
    "std_nml = df_nml.std()\n",
    "hw_nml = 1.96*std_nml/math.sqrt(len(df_nml))\n",
    "\n",
    "mean_ml = df_ml.mean()\n",
    "std_ml = df_ml.std()\n",
    "hw_ml = 1.96*std_ml/math.sqrt(len(df_ml))"
   ]
  },
  {
   "cell_type": "code",
   "execution_count": 396,
   "id": "12da068c",
   "metadata": {},
   "outputs": [
    {
     "data": {
      "text/plain": [
       "([<matplotlib.axis.XTick at 0x7fa9b130e400>,\n",
       "  <matplotlib.axis.XTick at 0x7fa9b130e3d0>,\n",
       "  <matplotlib.axis.XTick at 0x7fa988592d60>,\n",
       "  <matplotlib.axis.XTick at 0x7fa9a5e76b80>],\n",
       " [Text(1, 0, 'J'), Text(2, 0, 'M'), Text(3, 0, 'S'), Text(4, 0, 'E')])"
      ]
     },
     "execution_count": 396,
     "metadata": {},
     "output_type": "execute_result"
    },
    {
     "data": {
      "image/png": "[encoded data removed]",
      "text/plain": [
       "<Figure size 432x288 with 1 Axes>"
      ]
     },
     "metadata": {
      "needs_background": "light"
     },
     "output_type": "display_data"
    }
   ],
   "source": [
    "x = [1,2,3,4]\n",
    "plt.errorbar(x=x, y=mean_nml[3:7], yerr=hw_nb[3:7], label='No Maternity Leave')\n",
    "plt.errorbar(x=x, y=mean_ml[3:7], yerr=hw_est[3:7], label='Maternity Leave')\n",
    "plt.legend()\n",
    "xticks=['J','M','S','E']\n",
    "plt.title('Effect of Materinty Leave on Proportion of Men')\n",
    "plt.xticks(x,xticks)"
   ]
  },
  {
   "cell_type": "markdown",
   "id": "7bc449b2",
   "metadata": {},
   "source": [
    "# Productivity Model vs. Base Logit"
   ]
  },
  {
   "cell_type": "code",
   "execution_count": 397,
   "id": "7518da84",
   "metadata": {},
   "outputs": [
    {
     "name": "stdout",
     "output_type": "stream",
     "text": [
      "/Users/saniyavaidya/Documents/4580_final_project/simulation_data/4025_prod_data/4025_prod_rawdata.csv\n"
     ]
    },
    {
     "data": {
      "text/html": [
       "<div>\n",
       "<style scoped>\n",
       "    .dataframe tbody tr th:only-of-type {\n",
       "        vertical-align: middle;\n",
       "    }\n",
       "\n",
       "    .dataframe tbody tr th {\n",
       "        vertical-align: top;\n",
       "    }\n",
       "\n",
       "    .dataframe thead th {\n",
       "        text-align: right;\n",
       "    }\n",
       "</style>\n",
       "<table border=\"1\" class=\"dataframe\">\n",
       "  <thead>\n",
       "    <tr style=\"text-align: right;\">\n",
       "      <th></th>\n",
       "      <th>0</th>\n",
       "      <th>1</th>\n",
       "      <th>2</th>\n",
       "      <th>3</th>\n",
       "      <th>4</th>\n",
       "      <th>5</th>\n",
       "      <th>6</th>\n",
       "    </tr>\n",
       "  </thead>\n",
       "  <tbody>\n",
       "    <tr>\n",
       "      <th>0</th>\n",
       "      <td>0.0</td>\n",
       "      <td>1.0</td>\n",
       "      <td>-2.15</td>\n",
       "      <td>0.624423</td>\n",
       "      <td>0.625495</td>\n",
       "      <td>0.614615</td>\n",
       "      <td>0.694872</td>\n",
       "    </tr>\n",
       "    <tr>\n",
       "      <th>1</th>\n",
       "      <td>0.0</td>\n",
       "      <td>1.0</td>\n",
       "      <td>-2.15</td>\n",
       "      <td>0.628942</td>\n",
       "      <td>0.605934</td>\n",
       "      <td>0.652308</td>\n",
       "      <td>0.600000</td>\n",
       "    </tr>\n",
       "    <tr>\n",
       "      <th>2</th>\n",
       "      <td>0.0</td>\n",
       "      <td>1.0</td>\n",
       "      <td>-2.15</td>\n",
       "      <td>0.625192</td>\n",
       "      <td>0.580000</td>\n",
       "      <td>0.613846</td>\n",
       "      <td>0.653846</td>\n",
       "    </tr>\n",
       "    <tr>\n",
       "      <th>3</th>\n",
       "      <td>0.0</td>\n",
       "      <td>1.0</td>\n",
       "      <td>-2.15</td>\n",
       "      <td>0.615481</td>\n",
       "      <td>0.616703</td>\n",
       "      <td>0.603077</td>\n",
       "      <td>0.710256</td>\n",
       "    </tr>\n",
       "    <tr>\n",
       "      <th>4</th>\n",
       "      <td>0.0</td>\n",
       "      <td>1.0</td>\n",
       "      <td>-2.15</td>\n",
       "      <td>0.625385</td>\n",
       "      <td>0.621758</td>\n",
       "      <td>0.675385</td>\n",
       "      <td>0.725641</td>\n",
       "    </tr>\n",
       "  </tbody>\n",
       "</table>\n",
       "</div>"
      ],
      "text/plain": [
       "     0    1     2         3         4         5         6\n",
       "0  0.0  1.0 -2.15  0.624423  0.625495  0.614615  0.694872\n",
       "1  0.0  1.0 -2.15  0.628942  0.605934  0.652308  0.600000\n",
       "2  0.0  1.0 -2.15  0.625192  0.580000  0.613846  0.653846\n",
       "3  0.0  1.0 -2.15  0.615481  0.616703  0.603077  0.710256\n",
       "4  0.0  1.0 -2.15  0.625385  0.621758  0.675385  0.725641"
      ]
     },
     "execution_count": 397,
     "metadata": {},
     "output_type": "execute_result"
    }
   ],
   "source": [
    "ts = '4025'\n",
    "sim_type = 'prod'\n",
    "\n",
    "path = os.path.join(os.getcwd(), \"simulation_data\")\n",
    "folder_path = os.path.join(path, \"%s_%s_data\" % (ts, sim_type))\n",
    "listing = ts + \"_\" + sim_type + \"_rawdata.csv\"\n",
    "path = os.path.join(folder_path, listing)\n",
    "print(path)\n",
    "\n",
    "df_p = pd.read_csv(path,header=None).T\n",
    "df_p.head()"
   ]
  },
  {
   "cell_type": "code",
   "execution_count": 398,
   "id": "5ed590d1",
   "metadata": {},
   "outputs": [
    {
     "data": {
      "text/html": [
       "<div>\n",
       "<style scoped>\n",
       "    .dataframe tbody tr th:only-of-type {\n",
       "        vertical-align: middle;\n",
       "    }\n",
       "\n",
       "    .dataframe tbody tr th {\n",
       "        vertical-align: top;\n",
       "    }\n",
       "\n",
       "    .dataframe thead th {\n",
       "        text-align: right;\n",
       "    }\n",
       "</style>\n",
       "<table border=\"1\" class=\"dataframe\">\n",
       "  <thead>\n",
       "    <tr style=\"text-align: right;\">\n",
       "      <th></th>\n",
       "      <th>alpha</th>\n",
       "      <th>gamma</th>\n",
       "      <th>delta</th>\n",
       "      <th>% Men in J</th>\n",
       "      <th>% Men in M</th>\n",
       "      <th>% Men in S</th>\n",
       "      <th>% Men in E</th>\n",
       "      <th>bias</th>\n",
       "    </tr>\n",
       "  </thead>\n",
       "  <tbody>\n",
       "    <tr>\n",
       "      <th>0</th>\n",
       "      <td>0.0</td>\n",
       "      <td>1.0</td>\n",
       "      <td>-2.15</td>\n",
       "      <td>0.624423</td>\n",
       "      <td>0.625495</td>\n",
       "      <td>0.614615</td>\n",
       "      <td>0.694872</td>\n",
       "      <td>0.5</td>\n",
       "    </tr>\n",
       "    <tr>\n",
       "      <th>1</th>\n",
       "      <td>0.0</td>\n",
       "      <td>1.0</td>\n",
       "      <td>-2.15</td>\n",
       "      <td>0.628942</td>\n",
       "      <td>0.605934</td>\n",
       "      <td>0.652308</td>\n",
       "      <td>0.600000</td>\n",
       "      <td>0.5</td>\n",
       "    </tr>\n",
       "    <tr>\n",
       "      <th>2</th>\n",
       "      <td>0.0</td>\n",
       "      <td>1.0</td>\n",
       "      <td>-2.15</td>\n",
       "      <td>0.625192</td>\n",
       "      <td>0.580000</td>\n",
       "      <td>0.613846</td>\n",
       "      <td>0.653846</td>\n",
       "      <td>0.5</td>\n",
       "    </tr>\n",
       "    <tr>\n",
       "      <th>3</th>\n",
       "      <td>0.0</td>\n",
       "      <td>1.0</td>\n",
       "      <td>-2.15</td>\n",
       "      <td>0.615481</td>\n",
       "      <td>0.616703</td>\n",
       "      <td>0.603077</td>\n",
       "      <td>0.710256</td>\n",
       "      <td>0.5</td>\n",
       "    </tr>\n",
       "    <tr>\n",
       "      <th>4</th>\n",
       "      <td>0.0</td>\n",
       "      <td>1.0</td>\n",
       "      <td>-2.15</td>\n",
       "      <td>0.625385</td>\n",
       "      <td>0.621758</td>\n",
       "      <td>0.675385</td>\n",
       "      <td>0.725641</td>\n",
       "      <td>0.5</td>\n",
       "    </tr>\n",
       "  </tbody>\n",
       "</table>\n",
       "</div>"
      ],
      "text/plain": [
       "   alpha  gamma  delta  % Men in J  % Men in M  % Men in S  % Men in E  bias\n",
       "0    0.0    1.0  -2.15    0.624423    0.625495    0.614615    0.694872   0.5\n",
       "1    0.0    1.0  -2.15    0.628942    0.605934    0.652308    0.600000   0.5\n",
       "2    0.0    1.0  -2.15    0.625192    0.580000    0.613846    0.653846   0.5\n",
       "3    0.0    1.0  -2.15    0.615481    0.616703    0.603077    0.710256   0.5\n",
       "4    0.0    1.0  -2.15    0.625385    0.621758    0.675385    0.725641   0.5"
      ]
     },
     "execution_count": 398,
     "metadata": {},
     "output_type": "execute_result"
    }
   ],
   "source": [
    "df_p = df_p.rename(columns={0: \"alpha\", 1: \"gamma\", 2: \"delta\", 3: \"% Men in J\", 4: \"% Men in M\", 5: \"% Men in S\" , 6: \"% Men in E\"})\n",
    "df_p['bias'] = (math.e**df_p['alpha']) / (1+math.e**df_p['alpha'])\n",
    "df_p.head()"
   ]
  },
  {
   "cell_type": "code",
   "execution_count": 399,
   "id": "ed5dc45e",
   "metadata": {},
   "outputs": [],
   "source": [
    "mean_p = df_p.mean()\n",
    "std_p = df_p.std()\n",
    "hw_p = 1.96*std_nml/math.sqrt(len(df_nml))"
   ]
  },
  {
   "cell_type": "code",
   "execution_count": 400,
   "id": "014c4358",
   "metadata": {},
   "outputs": [
    {
     "data": {
      "text/plain": [
       "([<matplotlib.axis.XTick at 0x7fa990352220>,\n",
       "  <matplotlib.axis.XTick at 0x7fa9903524f0>,\n",
       "  <matplotlib.axis.XTick at 0x7fa990350c40>,\n",
       "  <matplotlib.axis.XTick at 0x7fa9c09e3b20>],\n",
       " [Text(1, 0, 'J'), Text(2, 0, 'M'), Text(3, 0, 'S'), Text(4, 0, 'E')])"
      ]
     },
     "execution_count": 400,
     "metadata": {},
     "output_type": "execute_result"
    },
    {
     "data": {
      "image/png": "[encoded data removed]",
      "text/plain": [
       "<Figure size 432x288 with 1 Axes>"
      ]
     },
     "metadata": {
      "needs_background": "light"
     },
     "output_type": "display_data"
    }
   ],
   "source": [
    "x = [1,2,3,4]\n",
    "plt.errorbar(x=x, y=mean_nb[3:7], yerr=hw_nb[3:7], label='Seniority based promotions')\n",
    "plt.errorbar(x=x, y=mean_p[3:7], yerr=hw_p[3:7], label='Productivity based promotions')\n",
    "plt.legend()\n",
    "xticks=['J','M','S','E']\n",
    "plt.title('Effect of Promotions Based on Seniority vs. Productivity on Proportion of Men')\n",
    "plt.xticks(x,xticks)"
   ]
  },
  {
   "cell_type": "code",
   "execution_count": null,
   "id": "7c8b0027",
   "metadata": {},
   "outputs": [],
   "source": []
  },
  {
   "cell_type": "code",
   "execution_count": null,
   "id": "56e982c7",
   "metadata": {},
   "outputs": [],
   "source": []
  },
  {
   "cell_type": "code",
   "execution_count": null,
   "id": "764677e3",
   "metadata": {},
   "outputs": [],
   "source": []
  }
 ],
 "metadata": {
  "kernelspec": {
   "display_name": "Python 3",
   "language": "python",
   "name": "python3"
  },
  "language_info": {
   "codemirror_mode": {
    "name": "ipython",
    "version": 3
   },
   "file_extension": ".py",
   "mimetype": "text/x-python",
   "name": "python",
   "nbconvert_exporter": "python",
   "pygments_lexer": "ipython3",
   "version": "3.8.8"
  }
 },
 "nbformat": 4,
 "nbformat_minor": 5
}
