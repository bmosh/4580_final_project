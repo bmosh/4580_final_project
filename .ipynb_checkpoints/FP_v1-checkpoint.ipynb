{
 "cells": [
  {
   "cell_type": "code",
   "execution_count": 1,
   "id": "3987b260",
   "metadata": {},
   "outputs": [],
   "source": [
    "import numpy as np\n",
    "import pandas as pd\n",
    "import math\n",
    "import matplotlib.pyplot as plt\n",
    "import time"
   ]
  },
  {
   "cell_type": "markdown",
   "id": "f9589ff8",
   "metadata": {},
   "source": [
    "# Simulation Project (FA23):\n",
    "We are looking to simulate bis in the workpalce\n",
    "\n",
    "\n"
   ]
  },
  {
   "cell_type": "code",
   "execution_count": 4,
   "id": "c512ef41",
   "metadata": {},
   "outputs": [],
   "source": [
    "worker_id = 0\n",
    "\n",
    "levels = {\n",
    "    1 : \"J\",\n",
    "    2 : \"M\",\n",
    "    3 : \"S\",\n",
    "    4 : \"E\"\n",
    "}\n",
    "\n",
    "genders = {\n",
    "    0 : \"M\",\n",
    "    1 : \"F\",\n",
    "    2 : \"NB\"\n",
    "}\n",
    "\n",
    "workers = {\n",
    "    1 : set([]),\n",
    "    2 : set([]),\n",
    "    3 : set([]),\n",
    "    4 : set([])\n",
    "}\n",
    "\n",
    "sizes = {\n",
    "    1 : 200,\n",
    "    2 : 50,\n",
    "    3 : 10,\n",
    "    4 : 3\n",
    "}\n",
    "\n",
    "class worker(object):\n",
    "    \n",
    "    def __init__(self, level, gender, idx):\n",
    "        self.level = level\n",
    "        self.gender = gender\n",
    "        \n",
    "    def promote(self, workers):\n",
    "        assert self.level < 4\n",
    "        workers[self.level].remove(idx)\n",
    "        self.level += 1\n",
    "        workers[self.level].add(idx)\n",
    "        \n",
    "def populate_workforce():\n",
    "    \n",
    "    level = 4\n",
    "    \n",
    "    while workers[level].size() < level_sizes[level]:\n",
    "        gender = math.floor(3*np.random())\n",
    "        \n",
    "        workers[level].add(worker(level, gender, worker_id))\n",
    "        \n",
    "        worker_id += 1 \n",
    "        \n",
    "    level -= 1\n",
    "    \n",
    "    \n",
    "populate_workforce()\n",
    "\n",
    "print(workers[4])\n",
    "        \n",
    "        \n",
    "        "
   ]
  },
  {
   "cell_type": "code",
   "execution_count": null,
   "id": "a4464dbe",
   "metadata": {},
   "outputs": [],
   "source": []
  }
 ],
 "metadata": {
  "kernelspec": {
   "display_name": "Python 3 (ipykernel)",
   "language": "python",
   "name": "python3"
  },
  "language_info": {
   "codemirror_mode": {
    "name": "ipython",
    "version": 3
   },
   "file_extension": ".py",
   "mimetype": "text/x-python",
   "name": "python",
   "nbconvert_exporter": "python",
   "pygments_lexer": "ipython3",
   "version": "3.11.4"
  }
 },
 "nbformat": 4,
 "nbformat_minor": 5
}
