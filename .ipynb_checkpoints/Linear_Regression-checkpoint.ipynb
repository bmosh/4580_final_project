{
 "cells": [
  {
   "cell_type": "markdown",
   "id": "3cbca729-552d-46d7-8378-13feb9df0ec4",
   "metadata": {},
   "source": [
    "# Linear Regression Model"
   ]
  },
  {
   "cell_type": "code",
   "execution_count": 318,
   "id": "d3e3c401-c900-4f94-b9b0-58404de1008d",
   "metadata": {},
   "outputs": [],
   "source": [
    "import numpy as np\n",
    "import pandas as pd\n",
    "import matplotlib.pyplot as plt\n",
    "import statsmodels.api as sm\n",
    "import os\n",
    "import math"
   ]
  },
  {
   "cell_type": "markdown",
   "id": "71f560d2",
   "metadata": {},
   "source": [
    "# No Bias Data Set"
   ]
  },
  {
   "cell_type": "code",
   "execution_count": 326,
   "id": "a33874f3-58d5-41cd-9ce0-3755f06d8123",
   "metadata": {},
   "outputs": [
    {
     "name": "stdout",
     "output_type": "stream",
     "text": [
      "/Users/saniyavaidya/Documents/4580_final_project/simulation_data/70797_logit_data/70797_logit_rawdata.csv\n"
     ]
    },
    {
     "data": {
      "text/html": [
       "<div>\n",
       "<style scoped>\n",
       "    .dataframe tbody tr th:only-of-type {\n",
       "        vertical-align: middle;\n",
       "    }\n",
       "\n",
       "    .dataframe tbody tr th {\n",
       "        vertical-align: top;\n",
       "    }\n",
       "\n",
       "    .dataframe thead th {\n",
       "        text-align: right;\n",
       "    }\n",
       "</style>\n",
       "<table border=\"1\" class=\"dataframe\">\n",
       "  <thead>\n",
       "    <tr style=\"text-align: right;\">\n",
       "      <th></th>\n",
       "      <th>0</th>\n",
       "      <th>1</th>\n",
       "      <th>2</th>\n",
       "      <th>3</th>\n",
       "      <th>4</th>\n",
       "      <th>5</th>\n",
       "      <th>6</th>\n",
       "    </tr>\n",
       "  </thead>\n",
       "  <tbody>\n",
       "    <tr>\n",
       "      <th>0</th>\n",
       "      <td>0.0</td>\n",
       "      <td>1.0</td>\n",
       "      <td>-2.15</td>\n",
       "      <td>0.576971</td>\n",
       "      <td>0.760879</td>\n",
       "      <td>0.866923</td>\n",
       "      <td>0.828205</td>\n",
       "    </tr>\n",
       "    <tr>\n",
       "      <th>1</th>\n",
       "      <td>0.0</td>\n",
       "      <td>1.0</td>\n",
       "      <td>-2.15</td>\n",
       "      <td>0.588702</td>\n",
       "      <td>0.764396</td>\n",
       "      <td>0.871538</td>\n",
       "      <td>0.930769</td>\n",
       "    </tr>\n",
       "    <tr>\n",
       "      <th>2</th>\n",
       "      <td>0.0</td>\n",
       "      <td>1.0</td>\n",
       "      <td>-2.15</td>\n",
       "      <td>0.586490</td>\n",
       "      <td>0.774286</td>\n",
       "      <td>0.866154</td>\n",
       "      <td>0.907692</td>\n",
       "    </tr>\n",
       "    <tr>\n",
       "      <th>3</th>\n",
       "      <td>0.0</td>\n",
       "      <td>1.0</td>\n",
       "      <td>-2.15</td>\n",
       "      <td>0.566587</td>\n",
       "      <td>0.747473</td>\n",
       "      <td>0.881538</td>\n",
       "      <td>0.951282</td>\n",
       "    </tr>\n",
       "    <tr>\n",
       "      <th>4</th>\n",
       "      <td>0.0</td>\n",
       "      <td>1.0</td>\n",
       "      <td>-2.15</td>\n",
       "      <td>0.574183</td>\n",
       "      <td>0.764835</td>\n",
       "      <td>0.859231</td>\n",
       "      <td>0.964103</td>\n",
       "    </tr>\n",
       "  </tbody>\n",
       "</table>\n",
       "</div>"
      ],
      "text/plain": [
       "     0    1     2         3         4         5         6\n",
       "0  0.0  1.0 -2.15  0.576971  0.760879  0.866923  0.828205\n",
       "1  0.0  1.0 -2.15  0.588702  0.764396  0.871538  0.930769\n",
       "2  0.0  1.0 -2.15  0.586490  0.774286  0.866154  0.907692\n",
       "3  0.0  1.0 -2.15  0.566587  0.747473  0.881538  0.951282\n",
       "4  0.0  1.0 -2.15  0.574183  0.764835  0.859231  0.964103"
      ]
     },
     "execution_count": 326,
     "metadata": {},
     "output_type": "execute_result"
    }
   ],
   "source": [
    "ts = '70797'\n",
    "sim_type = 'logit'\n",
    "\n",
    "path = os.path.join(os.getcwd(), \"simulation_data\")\n",
    "folder_path = os.path.join(path, \"%s_%s_data\" % (ts, sim_type))\n",
    "listing = ts + \"_\" + sim_type + \"_rawdata.csv\"\n",
    "path = os.path.join(folder_path, listing)\n",
    "print(path)\n",
    "\n",
    "df_nb = pd.read_csv(path,header=None).T\n",
    "df_nb.head()"
   ]
  },
  {
   "cell_type": "code",
   "execution_count": 327,
   "id": "aa4fd7cd-5cf4-43d6-b70f-0843594ea2d4",
   "metadata": {},
   "outputs": [
    {
     "data": {
      "text/html": [
       "<div>\n",
       "<style scoped>\n",
       "    .dataframe tbody tr th:only-of-type {\n",
       "        vertical-align: middle;\n",
       "    }\n",
       "\n",
       "    .dataframe tbody tr th {\n",
       "        vertical-align: top;\n",
       "    }\n",
       "\n",
       "    .dataframe thead th {\n",
       "        text-align: right;\n",
       "    }\n",
       "</style>\n",
       "<table border=\"1\" class=\"dataframe\">\n",
       "  <thead>\n",
       "    <tr style=\"text-align: right;\">\n",
       "      <th></th>\n",
       "      <th>alpha</th>\n",
       "      <th>gamma</th>\n",
       "      <th>delta</th>\n",
       "      <th>% Men in J</th>\n",
       "      <th>% Men in M</th>\n",
       "      <th>% Men in S</th>\n",
       "      <th>% Men in E</th>\n",
       "      <th>bias</th>\n",
       "    </tr>\n",
       "  </thead>\n",
       "  <tbody>\n",
       "    <tr>\n",
       "      <th>0</th>\n",
       "      <td>0.0</td>\n",
       "      <td>1.0</td>\n",
       "      <td>-2.15</td>\n",
       "      <td>0.576971</td>\n",
       "      <td>0.760879</td>\n",
       "      <td>0.866923</td>\n",
       "      <td>0.828205</td>\n",
       "      <td>0.5</td>\n",
       "    </tr>\n",
       "    <tr>\n",
       "      <th>1</th>\n",
       "      <td>0.0</td>\n",
       "      <td>1.0</td>\n",
       "      <td>-2.15</td>\n",
       "      <td>0.588702</td>\n",
       "      <td>0.764396</td>\n",
       "      <td>0.871538</td>\n",
       "      <td>0.930769</td>\n",
       "      <td>0.5</td>\n",
       "    </tr>\n",
       "    <tr>\n",
       "      <th>2</th>\n",
       "      <td>0.0</td>\n",
       "      <td>1.0</td>\n",
       "      <td>-2.15</td>\n",
       "      <td>0.586490</td>\n",
       "      <td>0.774286</td>\n",
       "      <td>0.866154</td>\n",
       "      <td>0.907692</td>\n",
       "      <td>0.5</td>\n",
       "    </tr>\n",
       "    <tr>\n",
       "      <th>3</th>\n",
       "      <td>0.0</td>\n",
       "      <td>1.0</td>\n",
       "      <td>-2.15</td>\n",
       "      <td>0.566587</td>\n",
       "      <td>0.747473</td>\n",
       "      <td>0.881538</td>\n",
       "      <td>0.951282</td>\n",
       "      <td>0.5</td>\n",
       "    </tr>\n",
       "    <tr>\n",
       "      <th>4</th>\n",
       "      <td>0.0</td>\n",
       "      <td>1.0</td>\n",
       "      <td>-2.15</td>\n",
       "      <td>0.574183</td>\n",
       "      <td>0.764835</td>\n",
       "      <td>0.859231</td>\n",
       "      <td>0.964103</td>\n",
       "      <td>0.5</td>\n",
       "    </tr>\n",
       "  </tbody>\n",
       "</table>\n",
       "</div>"
      ],
      "text/plain": [
       "   alpha  gamma  delta  % Men in J  % Men in M  % Men in S  % Men in E  bias\n",
       "0    0.0    1.0  -2.15    0.576971    0.760879    0.866923    0.828205   0.5\n",
       "1    0.0    1.0  -2.15    0.588702    0.764396    0.871538    0.930769   0.5\n",
       "2    0.0    1.0  -2.15    0.586490    0.774286    0.866154    0.907692   0.5\n",
       "3    0.0    1.0  -2.15    0.566587    0.747473    0.881538    0.951282   0.5\n",
       "4    0.0    1.0  -2.15    0.574183    0.764835    0.859231    0.964103   0.5"
      ]
     },
     "execution_count": 327,
     "metadata": {},
     "output_type": "execute_result"
    }
   ],
   "source": [
    "df_nb = df_nb.rename(columns={0: \"alpha\", 1: \"gamma\", 2: \"delta\", 3: \"% Men in J\", 4: \"% Men in M\", 5: \"% Men in S\" , 6: \"% Men in E\"})\n",
    "df_nb['bias'] = (math.e**df_nb['alpha']) / (1+math.e**df_nb['alpha'])\n",
    "df_nb.head()"
   ]
  },
  {
   "cell_type": "code",
   "execution_count": 328,
   "id": "e05ae485",
   "metadata": {},
   "outputs": [],
   "source": [
    "mean_nb = df_nb.mean()\n",
    "std_nb = df_nb.std()\n",
    "hw_nb = 1.96*std_nb/math.sqrt(len(df_nb))"
   ]
  },
  {
   "cell_type": "markdown",
   "id": "712f8581",
   "metadata": {},
   "source": [
    "# Biased Dataset"
   ]
  },
  {
   "cell_type": "code",
   "execution_count": 344,
   "id": "5d48a559",
   "metadata": {},
   "outputs": [
    {
     "name": "stdout",
     "output_type": "stream",
     "text": [
      "/Users/saniyavaidya/Documents/4580_final_project/simulation_data/1196_logit_data/1196_logit_rawdata.csv\n",
      "/Users/saniyavaidya/Documents/4580_final_project/simulation_data/02975_logit_data/02975_logit_rawdata.csv\n"
     ]
    },
    {
     "data": {
      "text/html": [
       "<div>\n",
       "<style scoped>\n",
       "    .dataframe tbody tr th:only-of-type {\n",
       "        vertical-align: middle;\n",
       "    }\n",
       "\n",
       "    .dataframe tbody tr th {\n",
       "        vertical-align: top;\n",
       "    }\n",
       "\n",
       "    .dataframe thead th {\n",
       "        text-align: right;\n",
       "    }\n",
       "</style>\n",
       "<table border=\"1\" class=\"dataframe\">\n",
       "  <thead>\n",
       "    <tr style=\"text-align: right;\">\n",
       "      <th></th>\n",
       "      <th>0</th>\n",
       "      <th>1</th>\n",
       "      <th>2</th>\n",
       "      <th>3</th>\n",
       "      <th>4</th>\n",
       "      <th>5</th>\n",
       "      <th>6</th>\n",
       "    </tr>\n",
       "  </thead>\n",
       "  <tbody>\n",
       "    <tr>\n",
       "      <th>0</th>\n",
       "      <td>10.0</td>\n",
       "      <td>1.0</td>\n",
       "      <td>-2.15</td>\n",
       "      <td>0.581587</td>\n",
       "      <td>0.746813</td>\n",
       "      <td>0.880769</td>\n",
       "      <td>0.974359</td>\n",
       "    </tr>\n",
       "    <tr>\n",
       "      <th>1</th>\n",
       "      <td>10.0</td>\n",
       "      <td>1.0</td>\n",
       "      <td>-2.15</td>\n",
       "      <td>0.583894</td>\n",
       "      <td>0.776044</td>\n",
       "      <td>0.916923</td>\n",
       "      <td>0.974359</td>\n",
       "    </tr>\n",
       "    <tr>\n",
       "      <th>2</th>\n",
       "      <td>10.0</td>\n",
       "      <td>1.0</td>\n",
       "      <td>-2.15</td>\n",
       "      <td>0.589471</td>\n",
       "      <td>0.788571</td>\n",
       "      <td>0.890000</td>\n",
       "      <td>1.000000</td>\n",
       "    </tr>\n",
       "    <tr>\n",
       "      <th>3</th>\n",
       "      <td>10.0</td>\n",
       "      <td>1.0</td>\n",
       "      <td>-2.15</td>\n",
       "      <td>0.584471</td>\n",
       "      <td>0.718022</td>\n",
       "      <td>0.849231</td>\n",
       "      <td>0.971795</td>\n",
       "    </tr>\n",
       "    <tr>\n",
       "      <th>4</th>\n",
       "      <td>10.0</td>\n",
       "      <td>1.0</td>\n",
       "      <td>-2.15</td>\n",
       "      <td>0.570577</td>\n",
       "      <td>0.740659</td>\n",
       "      <td>0.933846</td>\n",
       "      <td>1.000000</td>\n",
       "    </tr>\n",
       "  </tbody>\n",
       "</table>\n",
       "</div>"
      ],
      "text/plain": [
       "      0    1     2         3         4         5         6\n",
       "0  10.0  1.0 -2.15  0.581587  0.746813  0.880769  0.974359\n",
       "1  10.0  1.0 -2.15  0.583894  0.776044  0.916923  0.974359\n",
       "2  10.0  1.0 -2.15  0.589471  0.788571  0.890000  1.000000\n",
       "3  10.0  1.0 -2.15  0.584471  0.718022  0.849231  0.971795\n",
       "4  10.0  1.0 -2.15  0.570577  0.740659  0.933846  1.000000"
      ]
     },
     "execution_count": 344,
     "metadata": {},
     "output_type": "execute_result"
    }
   ],
   "source": [
    "ts = '1196'\n",
    "sim_type = 'logit'\n",
    "\n",
    "path = os.path.join(os.getcwd(), \"simulation_data\")\n",
    "folder_path = os.path.join(path, \"%s_%s_data\" % (ts, sim_type))\n",
    "listing = ts + \"_\" + sim_type + \"_rawdata.csv\"\n",
    "path = os.path.join(folder_path, listing)\n",
    "print(path)\n",
    "\n",
    "df_b = pd.read_csv(path,header=None).T\n",
    "df_b.head()\n",
    "\n",
    "ts = '02975'\n",
    "sim_type = 'logit'\n",
    "\n",
    "path = os.path.join(os.getcwd(), \"simulation_data\")\n",
    "folder_path = os.path.join(path, \"%s_%s_data\" % (ts, sim_type))\n",
    "listing = ts + \"_\" + sim_type + \"_rawdata.csv\"\n",
    "path = os.path.join(folder_path, listing)\n",
    "print(path)\n",
    "\n",
    "df_bb = pd.read_csv(path,header=None).T\n",
    "df_bb.head()"
   ]
  },
  {
   "cell_type": "code",
   "execution_count": 345,
   "id": "92d448af",
   "metadata": {},
   "outputs": [
    {
     "data": {
      "text/html": [
       "<div>\n",
       "<style scoped>\n",
       "    .dataframe tbody tr th:only-of-type {\n",
       "        vertical-align: middle;\n",
       "    }\n",
       "\n",
       "    .dataframe tbody tr th {\n",
       "        vertical-align: top;\n",
       "    }\n",
       "\n",
       "    .dataframe thead th {\n",
       "        text-align: right;\n",
       "    }\n",
       "</style>\n",
       "<table border=\"1\" class=\"dataframe\">\n",
       "  <thead>\n",
       "    <tr style=\"text-align: right;\">\n",
       "      <th></th>\n",
       "      <th>alpha</th>\n",
       "      <th>gamma</th>\n",
       "      <th>delta</th>\n",
       "      <th>% Men in J</th>\n",
       "      <th>% Men in M</th>\n",
       "      <th>% Men in S</th>\n",
       "      <th>% Men in E</th>\n",
       "      <th>bias</th>\n",
       "    </tr>\n",
       "  </thead>\n",
       "  <tbody>\n",
       "    <tr>\n",
       "      <th>0</th>\n",
       "      <td>10.0</td>\n",
       "      <td>1.0</td>\n",
       "      <td>-2.15</td>\n",
       "      <td>0.581587</td>\n",
       "      <td>0.746813</td>\n",
       "      <td>0.880769</td>\n",
       "      <td>0.974359</td>\n",
       "      <td>0.999955</td>\n",
       "    </tr>\n",
       "    <tr>\n",
       "      <th>1</th>\n",
       "      <td>10.0</td>\n",
       "      <td>1.0</td>\n",
       "      <td>-2.15</td>\n",
       "      <td>0.583894</td>\n",
       "      <td>0.776044</td>\n",
       "      <td>0.916923</td>\n",
       "      <td>0.974359</td>\n",
       "      <td>0.999955</td>\n",
       "    </tr>\n",
       "    <tr>\n",
       "      <th>2</th>\n",
       "      <td>10.0</td>\n",
       "      <td>1.0</td>\n",
       "      <td>-2.15</td>\n",
       "      <td>0.589471</td>\n",
       "      <td>0.788571</td>\n",
       "      <td>0.890000</td>\n",
       "      <td>1.000000</td>\n",
       "      <td>0.999955</td>\n",
       "    </tr>\n",
       "    <tr>\n",
       "      <th>3</th>\n",
       "      <td>10.0</td>\n",
       "      <td>1.0</td>\n",
       "      <td>-2.15</td>\n",
       "      <td>0.584471</td>\n",
       "      <td>0.718022</td>\n",
       "      <td>0.849231</td>\n",
       "      <td>0.971795</td>\n",
       "      <td>0.999955</td>\n",
       "    </tr>\n",
       "    <tr>\n",
       "      <th>4</th>\n",
       "      <td>10.0</td>\n",
       "      <td>1.0</td>\n",
       "      <td>-2.15</td>\n",
       "      <td>0.570577</td>\n",
       "      <td>0.740659</td>\n",
       "      <td>0.933846</td>\n",
       "      <td>1.000000</td>\n",
       "      <td>0.999955</td>\n",
       "    </tr>\n",
       "  </tbody>\n",
       "</table>\n",
       "</div>"
      ],
      "text/plain": [
       "   alpha  gamma  delta  % Men in J  % Men in M  % Men in S  % Men in E  \\\n",
       "0   10.0    1.0  -2.15    0.581587    0.746813    0.880769    0.974359   \n",
       "1   10.0    1.0  -2.15    0.583894    0.776044    0.916923    0.974359   \n",
       "2   10.0    1.0  -2.15    0.589471    0.788571    0.890000    1.000000   \n",
       "3   10.0    1.0  -2.15    0.584471    0.718022    0.849231    0.971795   \n",
       "4   10.0    1.0  -2.15    0.570577    0.740659    0.933846    1.000000   \n",
       "\n",
       "       bias  \n",
       "0  0.999955  \n",
       "1  0.999955  \n",
       "2  0.999955  \n",
       "3  0.999955  \n",
       "4  0.999955  "
      ]
     },
     "execution_count": 345,
     "metadata": {},
     "output_type": "execute_result"
    }
   ],
   "source": [
    "df_b = df_b.rename(columns={0: \"alpha\", 1: \"gamma\", 2: \"delta\", 3: \"% Men in J\", 4: \"% Men in M\", 5: \"% Men in S\" , 6: \"% Men in E\"})\n",
    "df_b['bias'] = (math.e**df_b['alpha']) / (1+math.e**df_b['alpha'])\n",
    "df_b.head()\n",
    "\n",
    "df_bb = df_bb.rename(columns={0: \"alpha\", 1: \"gamma\", 2: \"delta\", 3: \"% Men in J\", 4: \"% Men in M\", 5: \"% Men in S\" , 6: \"% Men in E\"})\n",
    "df_bb['bias'] = (math.e**df_bb['alpha']) / (1+math.e**df_bb['alpha'])\n",
    "df_bb.head()"
   ]
  },
  {
   "cell_type": "code",
   "execution_count": 346,
   "id": "f6180fdb",
   "metadata": {},
   "outputs": [],
   "source": [
    "mean_b = df_b.mean()\n",
    "std_b = df_b.std()\n",
    "hw_b = 1.96*std_b/math.sqrt(len(df_b))\n",
    "\n",
    "mean_bb = df_bb.mean()\n",
    "std_bb = df_bb.std()\n",
    "hw_bb = 1.96*std_bb/math.sqrt(len(df_bb))"
   ]
  },
  {
   "cell_type": "markdown",
   "id": "2925b171",
   "metadata": {},
   "source": [
    "# Bias vs. No Bias Comparison"
   ]
  },
  {
   "cell_type": "code",
   "execution_count": 373,
   "id": "c5c8b7f4",
   "metadata": {},
   "outputs": [
    {
     "data": {
      "text/plain": [
       "([<matplotlib.axis.XTick at 0x7fa961081eb0>,\n",
       "  <matplotlib.axis.XTick at 0x7fa961081e80>,\n",
       "  <matplotlib.axis.XTick at 0x7fa961073a30>,\n",
       "  <matplotlib.axis.XTick at 0x7fa9828e4850>],\n",
       " [Text(1, 0, 'J'), Text(2, 0, 'M'), Text(3, 0, 'S'), Text(4, 0, 'E')])"
      ]
     },
     "execution_count": 373,
     "metadata": {},
     "output_type": "execute_result"
    },
    {
     "data": {
      "image/png": "[encoded data removed]",
      "text/plain": [
       "<Figure size 432x288 with 1 Axes>"
      ]
     },
     "metadata": {
      "needs_background": "light"
     },
     "output_type": "display_data"
    }
   ],
   "source": [
    "x = [1,2,3,4]\n",
    "plt.errorbar(x=x, y=mean_nb[3:7], yerr=hw_nb[3:7], label='No bias',)\n",
    "plt.errorbar(x=x, y=mean_b[3:7], yerr=hw_b[3:7], label='Bias')\n",
    "plt.errorbar(x=x, y=mean_bb[3:7], yerr=hw_b[3:7], label='Bias more')\n",
    "plt.legend()\n",
    "xticks=['J','M','S','E']\n",
    "plt.title('Effect of Bias on Proportion of Men')\n",
    "plt.xticks(x,xticks)"
   ]
  },
  {
   "cell_type": "markdown",
   "id": "86803602",
   "metadata": {},
   "source": [
    "# Effect of $\\gamma$"
   ]
  },
  {
   "cell_type": "code",
   "execution_count": 349,
   "id": "dda8105c",
   "metadata": {},
   "outputs": [
    {
     "name": "stdout",
     "output_type": "stream",
     "text": [
      "/Users/saniyavaidya/Documents/4580_final_project/simulation_data/3032_logit_data/3032_logit_rawdata.csv\n",
      "     0     1     2         3         4         5         6\n",
      "0  0.0  10.0 -2.15  0.579087  0.760659  0.875385  0.966667\n",
      "1  0.0  10.0 -2.15  0.577548  0.764176  0.804615  0.807692\n",
      "2  0.0  10.0 -2.15  0.598462  0.779341  0.862308  0.943590\n",
      "3  0.0  10.0 -2.15  0.586058  0.755165  0.860000  0.917949\n",
      "4  0.0  10.0 -2.15  0.572115  0.734066  0.896923  0.933333\n",
      "/Users/saniyavaidya/Documents/4580_final_project/simulation_data/2980_logit_data/2980_logit_rawdata.csv\n",
      "     0     1     2         3         4         5         6\n",
      "0  0.0  30.0 -2.15  0.574231  0.770989  0.880000  0.958974\n",
      "1  0.0  30.0 -2.15  0.591538  0.769670  0.860769  0.900000\n",
      "2  0.0  30.0 -2.15  0.573558  0.751429  0.893846  0.938462\n",
      "3  0.0  30.0 -2.15  0.588846  0.792747  0.875385  0.928205\n",
      "4  0.0  30.0 -2.15  0.592500  0.775165  0.864615  0.969231\n"
     ]
    }
   ],
   "source": [
    "ts = '3032'\n",
    "sim_type = 'logit'\n",
    "\n",
    "path = os.path.join(os.getcwd(), \"simulation_data\")\n",
    "folder_path = os.path.join(path, \"%s_%s_data\" % (ts, sim_type))\n",
    "listing = ts + \"_\" + sim_type + \"_rawdata.csv\"\n",
    "path = os.path.join(folder_path, listing)\n",
    "print(path)\n",
    "\n",
    "df_hg1 = pd.read_csv(path,header=None).T\n",
    "print(df_hg1.head())\n",
    "\n",
    "ts = '2980' \n",
    "sim_type = 'logit'\n",
    "\n",
    "path = os.path.join(os.getcwd(), \"simulation_data\")\n",
    "folder_path = os.path.join(path, \"%s_%s_data\" % (ts, sim_type))\n",
    "listing = ts + \"_\" + sim_type + \"_rawdata.csv\"\n",
    "path = os.path.join(folder_path, listing)\n",
    "print(path)\n",
    "\n",
    "df_hg2 = pd.read_csv(path,header=None).T\n",
    "print(df_hg2.head())"
   ]
  },
  {
   "cell_type": "code",
   "execution_count": 350,
   "id": "f9ca2dc0",
   "metadata": {},
   "outputs": [
    {
     "name": "stdout",
     "output_type": "stream",
     "text": [
      "   alpha  gamma  delta  % Men in J  % Men in M  % Men in S  % Men in E  bias\n",
      "0    0.0   10.0  -2.15    0.579087    0.760659    0.875385    0.966667   0.5\n",
      "1    0.0   10.0  -2.15    0.577548    0.764176    0.804615    0.807692   0.5\n",
      "2    0.0   10.0  -2.15    0.598462    0.779341    0.862308    0.943590   0.5\n",
      "3    0.0   10.0  -2.15    0.586058    0.755165    0.860000    0.917949   0.5\n",
      "4    0.0   10.0  -2.15    0.572115    0.734066    0.896923    0.933333   0.5\n",
      "   alpha  gamma  delta  % Men in J  % Men in M  % Men in S  % Men in E  bias\n",
      "0    0.0   30.0  -2.15    0.574231    0.770989    0.880000    0.958974   0.5\n",
      "1    0.0   30.0  -2.15    0.591538    0.769670    0.860769    0.900000   0.5\n",
      "2    0.0   30.0  -2.15    0.573558    0.751429    0.893846    0.938462   0.5\n",
      "3    0.0   30.0  -2.15    0.588846    0.792747    0.875385    0.928205   0.5\n",
      "4    0.0   30.0  -2.15    0.592500    0.775165    0.864615    0.969231   0.5\n"
     ]
    }
   ],
   "source": [
    "df_hg1 = df_hg1.rename(columns={0: \"alpha\", 1: \"gamma\", 2: \"delta\", 3: \"% Men in J\", 4: \"% Men in M\", 5: \"% Men in S\" , 6: \"% Men in E\"})\n",
    "df_hg1['bias'] = (math.e**df_hg1['alpha']) / (1+math.e**df_hg1['alpha'])\n",
    "print(df_hg1.head())\n",
    "\n",
    "df_hg2 = df_hg2.rename(columns={0: \"alpha\", 1: \"gamma\", 2: \"delta\", 3: \"% Men in J\", 4: \"% Men in M\", 5: \"% Men in S\" , 6: \"% Men in E\"})\n",
    "df_hg2['bias'] = (math.e**df_hg2['alpha']) / (1+math.e**df_hg2['alpha'])\n",
    "print(df_hg2.head())"
   ]
  },
  {
   "cell_type": "code",
   "execution_count": 351,
   "id": "c13e7946",
   "metadata": {},
   "outputs": [],
   "source": [
    "mean_hg1 = df_hg1.mean()\n",
    "std_hg1 = df_hg1.std()\n",
    "hw_hg1 = 1.96*std_hg1/math.sqrt(len(df_hg1))\n",
    "\n",
    "mean_hg2 = df_hg2.mean()\n",
    "std_hg2 = df_hg2.std()\n",
    "hw_hg2 = 1.96*std_hg2/math.sqrt(len(df_hg2))"
   ]
  },
  {
   "cell_type": "code",
   "execution_count": 353,
   "id": "8ae7e9f9",
   "metadata": {},
   "outputs": [
    {
     "data": {
      "text/plain": [
       "([<matplotlib.axis.XTick at 0x7fa9b065e430>,\n",
       "  <matplotlib.axis.XTick at 0x7fa9b065e280>,\n",
       "  <matplotlib.axis.XTick at 0x7fa9a57dc3d0>,\n",
       "  <matplotlib.axis.XTick at 0x7fa9b0e5a370>],\n",
       " [Text(1, 0, 'J'), Text(2, 0, 'M'), Text(3, 0, 'S'), Text(4, 0, 'E')])"
      ]
     },
     "execution_count": 353,
     "metadata": {},
     "output_type": "execute_result"
    },
    {
     "data": {
      "image/png": "[encoded data removed]",
      "text/plain": [
       "<Figure size 432x288 with 1 Axes>"
      ]
     },
     "metadata": {
      "needs_background": "light"
     },
     "output_type": "display_data"
    }
   ],
   "source": [
    "x = [1,2,3,4]\n",
    "plt.errorbar(x=x, y=mean_nb[3:7], yerr=hw_nb[2:6], label='$\\gamma$=1')\n",
    "plt.errorbar(x=x, y=mean_hg1[3:7], yerr=hw_hg1[2:6], label='$\\gamma$=10')\n",
    "plt.errorbar(x=x, y=mean_hg2[3:7], yerr=hw_hg2[2:6], label='$\\gamma$=30')\n",
    "plt.legend()\n",
    "xticks=['J','M','S','E']\n",
    "plt.title('Effect of Emphasis on Seniority on Proportion of Men')\n",
    "plt.xticks(x,xticks)"
   ]
  },
  {
   "cell_type": "markdown",
   "id": "b4c8b84d",
   "metadata": {},
   "source": [
    "# Effect of Shorter Stay Times for Women"
   ]
  },
  {
   "cell_type": "code",
   "execution_count": 363,
   "id": "5e6399e3",
   "metadata": {},
   "outputs": [
    {
     "name": "stdout",
     "output_type": "stream",
     "text": [
      "/Users/saniyavaidya/Documents/4580_final_project/simulation_data/3230_logit_data/3230_logit_rawdata.csv\n",
      "     0    1    2         3         4         5         6\n",
      "0  0.0  1.0  0.0  0.582740  0.765714  0.876154  0.938462\n",
      "1  0.0  1.0  0.0  0.575769  0.760879  0.853077  0.920513\n",
      "2  0.0  1.0  0.0  0.587885  0.769011  0.826923  0.889744\n",
      "3  0.0  1.0  0.0  0.576923  0.764176  0.807692  0.882051\n",
      "4  0.0  1.0  0.0  0.585673  0.758901  0.837692  0.892308\n"
     ]
    }
   ],
   "source": [
    "ts = '3230'\n",
    "sim_type = 'logit'\n",
    "\n",
    "path = os.path.join(os.getcwd(), \"simulation_data\")\n",
    "folder_path = os.path.join(path, \"%s_%s_data\" % (ts, sim_type))\n",
    "listing = ts + \"_\" + sim_type + \"_rawdata.csv\"\n",
    "path = os.path.join(folder_path, listing)\n",
    "print(path)\n",
    "\n",
    "df_est = pd.read_csv(path,header=None).T\n",
    "print(df_est.head())"
   ]
  },
  {
   "cell_type": "code",
   "execution_count": 364,
   "id": "11268572",
   "metadata": {},
   "outputs": [
    {
     "data": {
      "text/html": [
       "<div>\n",
       "<style scoped>\n",
       "    .dataframe tbody tr th:only-of-type {\n",
       "        vertical-align: middle;\n",
       "    }\n",
       "\n",
       "    .dataframe tbody tr th {\n",
       "        vertical-align: top;\n",
       "    }\n",
       "\n",
       "    .dataframe thead th {\n",
       "        text-align: right;\n",
       "    }\n",
       "</style>\n",
       "<table border=\"1\" class=\"dataframe\">\n",
       "  <thead>\n",
       "    <tr style=\"text-align: right;\">\n",
       "      <th></th>\n",
       "      <th>alpha</th>\n",
       "      <th>gamma</th>\n",
       "      <th>delta</th>\n",
       "      <th>% Men in J</th>\n",
       "      <th>% Men in M</th>\n",
       "      <th>% Men in S</th>\n",
       "      <th>% Men in E</th>\n",
       "      <th>bias</th>\n",
       "    </tr>\n",
       "  </thead>\n",
       "  <tbody>\n",
       "    <tr>\n",
       "      <th>0</th>\n",
       "      <td>0.0</td>\n",
       "      <td>1.0</td>\n",
       "      <td>0.0</td>\n",
       "      <td>0.582740</td>\n",
       "      <td>0.765714</td>\n",
       "      <td>0.876154</td>\n",
       "      <td>0.938462</td>\n",
       "      <td>0.5</td>\n",
       "    </tr>\n",
       "    <tr>\n",
       "      <th>1</th>\n",
       "      <td>0.0</td>\n",
       "      <td>1.0</td>\n",
       "      <td>0.0</td>\n",
       "      <td>0.575769</td>\n",
       "      <td>0.760879</td>\n",
       "      <td>0.853077</td>\n",
       "      <td>0.920513</td>\n",
       "      <td>0.5</td>\n",
       "    </tr>\n",
       "    <tr>\n",
       "      <th>2</th>\n",
       "      <td>0.0</td>\n",
       "      <td>1.0</td>\n",
       "      <td>0.0</td>\n",
       "      <td>0.587885</td>\n",
       "      <td>0.769011</td>\n",
       "      <td>0.826923</td>\n",
       "      <td>0.889744</td>\n",
       "      <td>0.5</td>\n",
       "    </tr>\n",
       "    <tr>\n",
       "      <th>3</th>\n",
       "      <td>0.0</td>\n",
       "      <td>1.0</td>\n",
       "      <td>0.0</td>\n",
       "      <td>0.576923</td>\n",
       "      <td>0.764176</td>\n",
       "      <td>0.807692</td>\n",
       "      <td>0.882051</td>\n",
       "      <td>0.5</td>\n",
       "    </tr>\n",
       "    <tr>\n",
       "      <th>4</th>\n",
       "      <td>0.0</td>\n",
       "      <td>1.0</td>\n",
       "      <td>0.0</td>\n",
       "      <td>0.585673</td>\n",
       "      <td>0.758901</td>\n",
       "      <td>0.837692</td>\n",
       "      <td>0.892308</td>\n",
       "      <td>0.5</td>\n",
       "    </tr>\n",
       "  </tbody>\n",
       "</table>\n",
       "</div>"
      ],
      "text/plain": [
       "   alpha  gamma  delta  % Men in J  % Men in M  % Men in S  % Men in E  bias\n",
       "0    0.0    1.0    0.0    0.582740    0.765714    0.876154    0.938462   0.5\n",
       "1    0.0    1.0    0.0    0.575769    0.760879    0.853077    0.920513   0.5\n",
       "2    0.0    1.0    0.0    0.587885    0.769011    0.826923    0.889744   0.5\n",
       "3    0.0    1.0    0.0    0.576923    0.764176    0.807692    0.882051   0.5\n",
       "4    0.0    1.0    0.0    0.585673    0.758901    0.837692    0.892308   0.5"
      ]
     },
     "execution_count": 364,
     "metadata": {},
     "output_type": "execute_result"
    }
   ],
   "source": [
    "df_est = df_est.rename(columns={0: \"alpha\", 1: \"gamma\", 2: \"delta\", 3: \"% Men in J\", 4: \"% Men in M\", 5: \"% Men in S\" , 6: \"% Men in E\"})\n",
    "df_est['bias'] = (math.e**df_est['alpha']) / (1+math.e**df_est['alpha'])\n",
    "df_est.head()"
   ]
  },
  {
   "cell_type": "code",
   "execution_count": 365,
   "id": "fd32afd2",
   "metadata": {},
   "outputs": [],
   "source": [
    "mean_est = df_est.mean()\n",
    "std_est = df_est.std()\n",
    "hw_est = 1.96*std_est/math.sqrt(len(df_est))"
   ]
  },
  {
   "cell_type": "code",
   "execution_count": 368,
   "id": "8d2d8166",
   "metadata": {},
   "outputs": [
    {
     "data": {
      "text/plain": [
       "([<matplotlib.axis.XTick at 0x7fa961150430>,\n",
       "  <matplotlib.axis.XTick at 0x7fa961150400>,\n",
       "  <matplotlib.axis.XTick at 0x7fa96114ae80>,\n",
       "  <matplotlib.axis.XTick at 0x7fa98840ebe0>],\n",
       " [Text(1, 0, 'J'), Text(2, 0, 'M'), Text(3, 0, 'S'), Text(4, 0, 'E')])"
      ]
     },
     "execution_count": 368,
     "metadata": {},
     "output_type": "execute_result"
    },
    {
     "data": {
      "image/png": "[encoded data removed]",
      "text/plain": [
       "<Figure size 432x288 with 1 Axes>"
      ]
     },
     "metadata": {
      "needs_background": "light"
     },
     "output_type": "display_data"
    }
   ],
   "source": [
    "x = [1,2,3,4]\n",
    "plt.errorbar(x=x, y=mean_nb[3:7], yerr=hw_nb[3:7], label='Short stay time for women')\n",
    "plt.errorbar(x=x, y=mean_est[3:7], yerr=hw_est[3:7], label='Equal stay times')\n",
    "plt.legend()\n",
    "xticks=['J','M','S','E']\n",
    "plt.title('Effect of Emphasis on Short Female Stay Times on Proportion of Men')\n",
    "plt.xticks(x,xticks)"
   ]
  },
  {
   "cell_type": "code",
   "execution_count": 367,
   "id": "b4ede826",
   "metadata": {},
   "outputs": [
    {
     "data": {
      "text/plain": [
       "(array([ 1.,  0.,  1.,  2.,  1.,  9.,  8.,  8., 12.,  8.]),\n",
       " array([0.76410256, 0.78461538, 0.80512821, 0.82564103, 0.84615385,\n",
       "        0.86666667, 0.88717949, 0.90769231, 0.92820513, 0.94871795,\n",
       "        0.96923077]),\n",
       " <BarContainer object of 10 artists>)"
      ]
     },
     "execution_count": 367,
     "metadata": {},
     "output_type": "execute_result"
    },
    {
     "data": {
      "image/png": "[encoded data removed]",
      "text/plain": [
       "<Figure size 432x288 with 1 Axes>"
      ]
     },
     "metadata": {
      "needs_background": "light"
     },
     "output_type": "display_data"
    }
   ],
   "source": [
    "plt.hist(df_est['% Men in E'])"
   ]
  },
  {
   "cell_type": "markdown",
   "id": "03378480",
   "metadata": {},
   "source": [
    "# Maternal Leave Analysis"
   ]
  },
  {
   "cell_type": "code",
   "execution_count": 376,
   "id": "970b3f45-fcaa-4145-b2ad-839fd91d8ee0",
   "metadata": {},
   "outputs": [
    {
     "name": "stdout",
     "output_type": "stream",
     "text": [
      "/Users/saniyavaidya/Documents/4580_final_project/simulation_data/105_logit_data/105_logit_rawdata.csv\n",
      "       0    1     2         3         4         5         6\n",
      "0  0.281  1.0 -2.15  0.573221  0.757363  0.863846  0.887179\n",
      "1  0.281  1.0 -2.15  0.579567  0.754505  0.864615  0.946154\n",
      "2  0.281  1.0 -2.15  0.584904  0.751868  0.830000  0.864103\n",
      "3  0.281  1.0 -2.15  0.585433  0.789231  0.877692  0.925641\n",
      "4  0.281  1.0 -2.15  0.570769  0.758901  0.842308  0.835897\n",
      "/Users/saniyavaidya/Documents/4580_final_project/simulation_data/9385_logit_data/9385_logit_rawdata.csv\n",
      "       0    1     2         3         4         5         6\n",
      "0  0.281  1.0 -2.15  0.573221  0.757363  0.863846  0.887179\n",
      "1  0.281  1.0 -2.15  0.579567  0.754505  0.864615  0.946154\n",
      "2  0.281  1.0 -2.15  0.584904  0.751868  0.830000  0.864103\n",
      "3  0.281  1.0 -2.15  0.585433  0.789231  0.877692  0.925641\n",
      "4  0.281  1.0 -2.15  0.570769  0.758901  0.842308  0.835897\n"
     ]
    }
   ],
   "source": [
    "# No leave dataset\n",
    "ts = '105'\n",
    "sim_type = 'logit'\n",
    "\n",
    "path = os.path.join(os.getcwd(), \"simulation_data\")\n",
    "folder_path = os.path.join(path, \"%s_%s_data\" % (ts, sim_type))\n",
    "listing = ts + \"_\" + sim_type + \"_rawdata.csv\"\n",
    "path = os.path.join(folder_path, listing)\n",
    "print(path)\n",
    "\n",
    "df_nml = pd.read_csv(path,header=None).T\n",
    "print(df_nml.head())\n",
    "\n",
    "# With leave dataset\n",
    "ts = '9385'\n",
    "sim_type = 'logit'\n",
    "\n",
    "path = os.path.join(os.getcwd(), \"simulation_data\")\n",
    "folder_path = os.path.join(path, \"%s_%s_data\" % (ts, sim_type))\n",
    "listing = ts + \"_\" + sim_type + \"_rawdata.csv\"\n",
    "path = os.path.join(folder_path, listing)\n",
    "print(path)\n",
    "\n",
    "df_ml = pd.read_csv(path,header=None).T\n",
    "print(df_nml.head())"
   ]
  },
  {
   "cell_type": "code",
   "execution_count": 377,
   "id": "0a23f78a",
   "metadata": {},
   "outputs": [
    {
     "name": "stdout",
     "output_type": "stream",
     "text": [
      "   alpha  gamma  delta  % Men in J  % Men in M  % Men in S  % Men in E  \\\n",
      "0    0.0   10.0  -2.15    0.579087    0.760659    0.875385    0.966667   \n",
      "1    0.0   10.0  -2.15    0.577548    0.764176    0.804615    0.807692   \n",
      "2    0.0   10.0  -2.15    0.598462    0.779341    0.862308    0.943590   \n",
      "3    0.0   10.0  -2.15    0.586058    0.755165    0.860000    0.917949   \n",
      "4    0.0   10.0  -2.15    0.572115    0.734066    0.896923    0.933333   \n",
      "\n",
      "       bias  \n",
      "0  0.662227  \n",
      "1  0.662227  \n",
      "2  0.662227  \n",
      "3  0.662227  \n",
      "4  0.662227  \n",
      "   alpha  gamma  delta  % Men in J  % Men in M  % Men in S  % Men in E  bias\n",
      "0    0.0   30.0  -2.15    0.574231    0.770989    0.880000    0.958974   0.5\n",
      "1    0.0   30.0  -2.15    0.591538    0.769670    0.860769    0.900000   0.5\n",
      "2    0.0   30.0  -2.15    0.573558    0.751429    0.893846    0.938462   0.5\n",
      "3    0.0   30.0  -2.15    0.588846    0.792747    0.875385    0.928205   0.5\n",
      "4    0.0   30.0  -2.15    0.592500    0.775165    0.864615    0.969231   0.5\n"
     ]
    }
   ],
   "source": [
    "df_nml = df_nml.rename(columns={0: \"alpha\", 1: \"gamma\", 2: \"delta\", 3: \"% Men in J\", 4: \"% Men in M\", 5: \"% Men in S\" , 6: \"% Men in E\"})\n",
    "df_nml['bias'] = (math.e**df_nml['alpha']) / (1+math.e**df_hg1['alpha'])\n",
    "print(df_hg1.head())\n",
    "\n",
    "df_ml = df_ml.rename(columns={0: \"alpha\", 1: \"gamma\", 2: \"delta\", 3: \"% Men in J\", 4: \"% Men in M\", 5: \"% Men in S\" , 6: \"% Men in E\"})\n",
    "df_ml['bias'] = (math.e**df_ml['alpha']) / (1+math.e**df_hg2['alpha'])\n",
    "print(df_hg2.head())"
   ]
  },
  {
   "cell_type": "code",
   "execution_count": 378,
   "id": "fa218bc1",
   "metadata": {},
   "outputs": [],
   "source": [
    "mean_nml = df_nml.mean()\n",
    "std_nml = df_nml.std()\n",
    "hw_nml = 1.96*std_nml/math.sqrt(len(df_nml))\n",
    "\n",
    "mean_ml = df_ml.mean()\n",
    "std_ml = df_ml.std()\n",
    "hw_ml = 1.96*std_ml/math.sqrt(len(df_ml))"
   ]
  },
  {
   "cell_type": "code",
   "execution_count": 379,
   "id": "30b21b57",
   "metadata": {},
   "outputs": [
    {
     "data": {
      "text/plain": [
       "([<matplotlib.axis.XTick at 0x7fa98297fcd0>,\n",
       "  <matplotlib.axis.XTick at 0x7fa98297fca0>,\n",
       "  <matplotlib.axis.XTick at 0x7fa98297d820>,\n",
       "  <matplotlib.axis.XTick at 0x7fa9829b7520>],\n",
       " [Text(1, 0, 'J'), Text(2, 0, 'M'), Text(3, 0, 'S'), Text(4, 0, 'E')])"
      ]
     },
     "execution_count": 379,
     "metadata": {},
     "output_type": "execute_result"
    },
    {
     "data": {
      "image/png": "[encoded data removed]",
      "text/plain": [
       "<Figure size 432x288 with 1 Axes>"
      ]
     },
     "metadata": {
      "needs_background": "light"
     },
     "output_type": "display_data"
    }
   ],
   "source": [
    "x = [1,2,3,4]\n",
    "plt.errorbar(x=x, y=mean_nml[3:7], yerr=hw_nb[3:7], label='No Maternity Leave')\n",
    "plt.errorbar(x=x, y=mean_ml[3:7], yerr=hw_est[3:7], label='Maternity Leave')\n",
    "plt.legend()\n",
    "xticks=['J','M','S','E']\n",
    "plt.title('Effect of Emphasis on Short Female Stay Times on Proportion of Men')\n",
    "plt.xticks(x,xticks)"
   ]
  },
  {
   "cell_type": "code",
   "execution_count": null,
   "id": "7d0c072b",
   "metadata": {},
   "outputs": [],
   "source": []
  }
 ],
 "metadata": {
  "kernelspec": {
   "display_name": "Python 3",
   "language": "python",
   "name": "python3"
  },
  "language_info": {
   "codemirror_mode": {
    "name": "ipython",
    "version": 3
   },
   "file_extension": ".py",
   "mimetype": "text/x-python",
   "name": "python",
   "nbconvert_exporter": "python",
   "pygments_lexer": "ipython3",
   "version": "3.8.8"
  }
 },
 "nbformat": 4,
 "nbformat_minor": 5
}
